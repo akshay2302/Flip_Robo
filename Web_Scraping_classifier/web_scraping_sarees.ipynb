{
 "cells": [
  {
   "cell_type": "code",
   "execution_count": 2,
   "metadata": {},
   "outputs": [
    {
     "name": "stdout",
     "output_type": "stream",
     "text": [
      "Collecting selenium\n",
      "  Downloading selenium-3.141.0-py2.py3-none-any.whl (904 kB)\n",
      "Requirement already satisfied: urllib3 in c:\\users\\akshay\\anaconda3\\lib\\site-packages (from selenium) (1.25.8)\n",
      "Installing collected packages: selenium\n",
      "Successfully installed selenium-3.141.0\n"
     ]
    }
   ],
   "source": [
    "!pip install selenium"
   ]
  },
  {
   "cell_type": "code",
   "execution_count": 1,
   "metadata": {},
   "outputs": [],
   "source": [
    "from selenium import webdriver\n",
    "import os"
   ]
  },
  {
   "cell_type": "code",
   "execution_count": 4,
   "metadata": {},
   "outputs": [],
   "source": [
    "driver=webdriver.Chrome(executable_path='C:/Users/AKSHAY/anaconda3/Lib/site-packages/selenium/chromedriver_win32/chromedriver.exe')"
   ]
  },
  {
   "cell_type": "code",
   "execution_count": 5,
   "metadata": {},
   "outputs": [],
   "source": [
    "my_page = driver.get(\"https://www.flipkart.com/search?q=sarees&otracker=search&otracker1=search&marketplace=FLIPKART&as-show=on&as=off\")"
   ]
  },
  {
   "cell_type": "code",
   "execution_count": 6,
   "metadata": {},
   "outputs": [],
   "source": [
    "def make_directory(dirname):\n",
    "    current_path = os.getcwd()\n",
    "    path=os.path.join(current_path, dirname)\n",
    "    if not os.path.exists(path):\n",
    "        os.makedirs(path)"
   ]
  },
  {
   "cell_type": "code",
   "execution_count": 7,
   "metadata": {},
   "outputs": [],
   "source": [
    "make_directory(\"sarees\")"
   ]
  },
  {
   "cell_type": "code",
   "execution_count": 8,
   "metadata": {},
   "outputs": [],
   "source": [
    "images=driver.find_elements_by_xpath(\"//img[@class='_3togXc']\")\n",
    "brands=driver.find_elements_by_xpath(\"//div[@class='_2B_pmu']\")\n",
    "prices=driver.find_elements_by_xpath(\"//div[@class='_1vC4OE']\")"
   ]
  },
  {
   "cell_type": "code",
   "execution_count": 9,
   "metadata": {},
   "outputs": [
    {
     "name": "stdout",
     "output_type": "stream",
     "text": [
      "40 40 40\n"
     ]
    }
   ],
   "source": [
    "print(len(images), len(brands), len(prices))"
   ]
  },
  {
   "cell_type": "code",
   "execution_count": 10,
   "metadata": {},
   "outputs": [
    {
     "name": "stdout",
     "output_type": "stream",
     "text": [
      "https://rukminim1.flixcart.com/image/329/395/jk4bngw0/sari/p/5/p/free-1336-anand-sarees-original-imaf7jhmrzbu8mfx.jpeg?q=50\n",
      "https://rukminim1.flixcart.com/image/329/395/k62i5jk0/sari/d/y/t/free-svf11trast-blouse-jabali-enterprise-original-imaempjvhdn5bfem.jpeg?q=50\n",
      "https://rukminim1.flixcart.com/image/329/395/k62i5jk0/sari/z/m/c/free-svf1152-4-awomens-latest-georgette-dailywear-partwear-original-imaemydjswug3yqz.jpeg?q=50\n",
      "https://rukminim1.flixcart.com/image/329/395/k7p37gw0/sari/g/q/q/free-instagram-black-febo-fashion-unstitched-original-imafpvpgdag5vxjc.jpeg?q=50\n",
      "https://rukminim1.flixcart.com/image/329/395/jw2f6vk0/sari/m/q/t/free-patola-tripotdesigner-original-imafcpbaahggxgee.jpeg?q=50\n",
      "https://rukminim1.flixcart.com/image/329/395/jy7kyvk0/sari/h/5/r/free-manish-bandhani-redtilak-original-imafgezutsdsxkwv.jpeg?q=50\n",
      "https://rukminim1.flixcart.com/image/329/395/k65d18w0/sari/s/n/t/free-jl-pck4-bl-meh-ab-pisara-original-imafn85mtw2gsh9s.jpeg?q=50\n",
      "https://rukminim1.flixcart.com/image/329/395/k5zn9u80/sari/u/n/t/free-svf1468-3-a-jabali-enterprise-original-imafdfszdcpvcwrp.jpeg?q=50\n",
      "https://rukminim1.flixcart.com/image/329/395/k13w4280/sari/2/5/t/free-rekishn90-01-rekishn-original-imafkhkvmzgqpqzh.jpeg?q=50\n",
      "https://rukminim1.flixcart.com/image/329/395/k62i5jk0/sari/g/r/p/free-brown1-sellous-original-imafnbtmzrhacrnr.jpeg?q=50\n",
      "https://rukminim1.flixcart.com/image/329/395/k6gsk280/sari/h/5/j/free-wedding-peacock-rama1-youth-creation-original-imafgzkzpaeqdtgp.jpeg?q=50\n",
      "https://rukminim1.flixcart.com/image/329/395/k6mibgw0/sari/a/x/p/free-lf-1001-laheja-original-imafpfzf3zwe5hw7.jpeg?q=50\n",
      "https://rukminim1.flixcart.com/image/329/395/k65d18w0/sari/d/h/c/free-jl-pck4-grn-red-ab-pisara-original-imafn85mmbgyp9jz.jpeg?q=50\n",
      "https://rukminim1.flixcart.com/image/329/395/k5txifk0/sari/h/h/u/free-rani-gulab-harlik-pasto-original-imafnvwbfgkp4hd4.jpeg?q=50\n",
      "https://rukminim1.flixcart.com/image/329/395/k3xcdjk0pkrrdj/sari/h/q/h/free-pink-5s-mor-4-hr-pisara-5s-mor-4-hr-original-imafgmkfvnntxgfp.jpeg?q=50\n",
      "https://rukminim1.flixcart.com/image/329/395/juip0nk0/sari/q/3/s/free-od-blue-velvet-nv-patel-original-imafdgzpkhvcymcf.jpeg?q=50\n",
      "https://rukminim1.flixcart.com/image/329/395/jlcmavk0/sari/f/w/5/free-7944-snh-export-original-imaf8hwbmhscygep.jpeg?q=50\n",
      "https://rukminim1.flixcart.com/image/329/395/sari/m/v/g/1-1-vega3054a-vaamsi-original-imae6tcsnzpyzqjg.jpeg?q=50\n",
      "https://rukminim1.flixcart.com/image/329/395/k4rcmfk0pkrrdj/sari/s/2/n/free-multicolor-combo-1341-1489-pooja-fashion-combo-1341-1489-original-imafgzjzw2g4arus.jpeg?q=50\n",
      "https://rukminim1.flixcart.com/image/329/395/k6fd47k0pkrrdj/sari/q/w/7/black-tik-tok-black-pari-designer-original-imafnvgy6wzzj5zr.jpeg?q=50\n",
      "https://rukminim1.flixcart.com/image/329/395/k6s82vk0/sari/c/a/h/free-black-red-2-barkiya-creation-original-imafp5cdcegn54bh.jpeg?q=50\n",
      "https://rukminim1.flixcart.com/image/329/395/k3xcdjk0pkrrdj/sari/g/3/a/free-red-morpank4-vimalnath-synthetics-morpankh4-original-imafdj6uxsfgg52k.jpeg?q=50\n",
      "https://rukminim1.flixcart.com/image/329/395/k6fd47k0pkrrdj/sari/h/f/u/red-yellow-blue-1363sj505-1363sj506-siril-original-imafzxgemkybhus7.jpeg?q=50\n",
      "https://rukminim1.flixcart.com/image/329/395/jxp08sw0/sari/n/7/c/free-ank11-taboody-empire-original-imafe6gfxayqng3f.jpeg?q=50\n",
      "https://rukminim1.flixcart.com/image/329/395/jziqhzk0/sari/f/e/f/free-1127s7120-1120s7096-saara-original-imafjgrfcbhxybyy.jpeg?q=50\n",
      "https://rukminim1.flixcart.com/image/329/395/jnm2efk0/sari/f/g/2/free-sandhy2-vimalnath-synthetics-original-imafa9a6mgk38fhg.jpeg?q=50\n",
      "https://rukminim1.flixcart.com/image/329/395/k6v2ykw0/sari/w/r/9/free-l-patti-grey-market-magic-world-original-imafp7h3a49gf7xh.jpeg?q=50\n",
      "https://rukminim1.flixcart.com/image/329/395/j66s3gw0/sari/s/k/n/2034-aai-shree-khodiyar-art-original-imaewpecdjndcre4.jpeg?q=50\n",
      "https://rukminim1.flixcart.com/image/329/395/jnkmykw0/sari/w/v/q/free-815s199-saara-original-imafa8dy56xcxuc3.jpeg?q=50\n",
      "https://rukminim1.flixcart.com/image/329/395/k7tdj0w0/sari/4/x/y/free-jb-candy-7-jamini-stitched-original-imafpz9zznmnferd.jpeg?q=50\n",
      "https://rukminim1.flixcart.com/image/329/395/kc54ivk0/sari/v/a/4/free-n260aw-wine-villagius-unstitched-original-imaftc8tykjgr5uk.jpeg?q=50\n",
      "https://rukminim1.flixcart.com/image/329/395/k3xcdjk0pkrrdj/sari/x/f/p/free-purple-nain8-vimalnath-synthetics-naina8-original-imaf8j63nd68eyp6.jpeg?q=50\n",
      "https://rukminim1.flixcart.com/image/329/395/k7usyvk0/sari/x/h/z/free-mt-brnda15208-pisara-unstitched-original-imafqy7fspveuegz.jpeg?q=50\n",
      "https://rukminim1.flixcart.com/image/329/395/k6dxocw0/sari/r/6/b/free-9-2-2022-kyada-fab-original-imafzccpaaafmmez.jpeg?q=50\n",
      "https://rukminim1.flixcart.com/image/329/395/k226oi80/sari/g/c/s/free-945s139-944s112-saara-original-imafdsc8memxuvbz.jpeg?q=50\n",
      "https://rukminim1.flixcart.com/image/329/395/k5si2kw0/sari/g/z/a/rc3201-vaamsi-original-imafzehcdqc6ymjg.jpeg?q=50\n",
      "https://rukminim1.flixcart.com/image/329/395/k4rcmfk0pkrrdj/sari/h/d/g/free-red-1560-pooja-fashion-1560-original-imafn7dfh9haazvt.jpeg?q=50\n",
      "https://rukminim1.flixcart.com/image/329/395/jpu324w0/sari/k/z/h/free-gulti-mor-rust-manjula-saree-original-imaf6st8v99qk86f.jpeg?q=50\n",
      "https://rukminim1.flixcart.com/image/329/395/k6gsk280/sari/f/7/w/free-wedding-peacock-mahendi1-youth-creation-original-imafgzkz8g6bbtsg.jpeg?q=50\n",
      "https://rukminim1.flixcart.com/image/329/395/jk01bww0/sari/z/d/y/free-1370-anand-sarees-original-imaf7g828xvwhyrs.jpeg?q=50\n"
     ]
    }
   ],
   "source": [
    "urls=[]\n",
    "for image in images:\n",
    "    source = image.get_attribute('src')\n",
    "    urls.append(source)\n",
    "    print(source)"
   ]
  },
  {
   "cell_type": "markdown",
   "metadata": {},
   "source": [
    "#now downloading images"
   ]
  },
  {
   "cell_type": "code",
   "execution_count": 13,
   "metadata": {},
   "outputs": [],
   "source": [
    "import shutil\n",
    "import requests"
   ]
  },
  {
   "cell_type": "code",
   "execution_count": 14,
   "metadata": {},
   "outputs": [
    {
     "name": "stdout",
     "output_type": "stream",
     "text": [
      "Downloading 1 of 40 images from page 1\n",
      "Downloading 2 of 40 images from page 1\n",
      "Downloading 3 of 40 images from page 1\n",
      "Downloading 4 of 40 images from page 1\n",
      "Downloading 5 of 40 images from page 1\n",
      "Downloading 6 of 40 images from page 1\n",
      "Downloading 7 of 40 images from page 1\n",
      "Downloading 8 of 40 images from page 1\n",
      "Downloading 9 of 40 images from page 1\n",
      "Downloading 10 of 40 images from page 1\n",
      "Downloading 11 of 40 images from page 1\n",
      "Downloading 12 of 40 images from page 1\n",
      "Downloading 13 of 40 images from page 1\n",
      "Downloading 14 of 40 images from page 1\n",
      "Downloading 15 of 40 images from page 1\n",
      "Downloading 16 of 40 images from page 1\n",
      "Downloading 17 of 40 images from page 1\n",
      "Downloading 18 of 40 images from page 1\n",
      "Downloading 19 of 40 images from page 1\n",
      "Downloading 20 of 40 images from page 1\n",
      "Downloading 21 of 40 images from page 1\n",
      "Downloading 22 of 40 images from page 1\n",
      "Downloading 23 of 40 images from page 1\n",
      "Downloading 24 of 40 images from page 1\n",
      "Downloading 25 of 40 images from page 1\n",
      "Downloading 26 of 40 images from page 1\n",
      "Downloading 27 of 40 images from page 1\n",
      "Downloading 28 of 40 images from page 1\n",
      "Downloading 29 of 40 images from page 1\n",
      "Downloading 30 of 40 images from page 1\n",
      "Downloading 31 of 40 images from page 1\n",
      "Downloading 32 of 40 images from page 1\n",
      "Downloading 33 of 40 images from page 1\n",
      "Downloading 34 of 40 images from page 1\n",
      "Downloading 35 of 40 images from page 1\n",
      "Downloading 36 of 40 images from page 1\n",
      "Downloading 37 of 40 images from page 1\n",
      "Downloading 38 of 40 images from page 1\n",
      "Downloading 39 of 40 images from page 1\n",
      "Downloading 40 of 40 images from page 1\n"
     ]
    }
   ],
   "source": [
    "page=1\n",
    "for index, link in enumerate(urls):\n",
    "    print(\"Downloading {0} of {1} images from page 1\".format(index+1, len(urls)))\n",
    "    \n",
    "    response = requests.get(link)\n",
    "    with open ('sarees/img_{0}{1}.jpg'.format(index,page),\"wb\") as file:\n",
    "        file.write(response.content)"
   ]
  },
  {
   "cell_type": "code",
   "execution_count": 15,
   "metadata": {},
   "outputs": [
    {
     "data": {
      "text/plain": [
       "{'brands': [], 'prices': []}"
      ]
     },
     "execution_count": 15,
     "metadata": {},
     "output_type": "execute_result"
    }
   ],
   "source": [
    "product_data = {}\n",
    "product_data['brands'] = []\n",
    "product_data['prices'] = []\n",
    "product_data"
   ]
  },
  {
   "cell_type": "code",
   "execution_count": 16,
   "metadata": {},
   "outputs": [],
   "source": [
    "for brand in brands:\n",
    "    product_data['brands'].append(brand.text)"
   ]
  },
  {
   "cell_type": "code",
   "execution_count": 17,
   "metadata": {},
   "outputs": [
    {
     "data": {
      "text/plain": [
       "40"
      ]
     },
     "execution_count": 17,
     "metadata": {},
     "output_type": "execute_result"
    }
   ],
   "source": [
    "len(product_data['brands'])"
   ]
  },
  {
   "cell_type": "code",
   "execution_count": 18,
   "metadata": {},
   "outputs": [
    {
     "data": {
      "text/plain": [
       "'Anand Sarees'"
      ]
     },
     "execution_count": 18,
     "metadata": {},
     "output_type": "execute_result"
    }
   ],
   "source": [
    "product_data['brands'][0]"
   ]
  },
  {
   "cell_type": "code",
   "execution_count": 19,
   "metadata": {},
   "outputs": [
    {
     "data": {
      "text/plain": [
       "<selenium.webdriver.remote.webelement.WebElement (session=\"978fdfddae5e3991cd44174fdee282a6\", element=\"a983b42c-8982-4610-9f59-41309bdb7c0d\")>"
      ]
     },
     "execution_count": 19,
     "metadata": {},
     "output_type": "execute_result"
    }
   ],
   "source": [
    "brands[0]"
   ]
  },
  {
   "cell_type": "code",
   "execution_count": 20,
   "metadata": {},
   "outputs": [],
   "source": [
    "for price in prices:\n",
    "    product_data['prices'].append(price.text)"
   ]
  },
  {
   "cell_type": "code",
   "execution_count": 21,
   "metadata": {},
   "outputs": [
    {
     "data": {
      "text/plain": [
       "40"
      ]
     },
     "execution_count": 21,
     "metadata": {},
     "output_type": "execute_result"
    }
   ],
   "source": [
    "len(product_data['prices'])"
   ]
  },
  {
   "cell_type": "code",
   "execution_count": 22,
   "metadata": {},
   "outputs": [
    {
     "data": {
      "text/plain": [
       "'₹269'"
      ]
     },
     "execution_count": 22,
     "metadata": {},
     "output_type": "execute_result"
    }
   ],
   "source": [
    "product_data['prices'][0]"
   ]
  },
  {
   "cell_type": "markdown",
   "metadata": {},
   "source": [
    "#for next page"
   ]
  },
  {
   "cell_type": "code",
   "execution_count": 23,
   "metadata": {},
   "outputs": [],
   "source": [
    "next_page = driver.find_element_by_xpath(\"//a[@class='_3fVaIS']\").click()"
   ]
  },
  {
   "cell_type": "code",
   "execution_count": 24,
   "metadata": {},
   "outputs": [],
   "source": [
    "images=driver.find_elements_by_xpath(\"//img[@class='_3togXc']\")\n",
    "brands=driver.find_elements_by_xpath(\"//div[@class='_2B_pmu']\")\n",
    "prices=driver.find_elements_by_xpath(\"//div[@class='_1vC4OE']\")"
   ]
  },
  {
   "cell_type": "code",
   "execution_count": 25,
   "metadata": {},
   "outputs": [
    {
     "name": "stdout",
     "output_type": "stream",
     "text": [
      "https://rukminim1.flixcart.com/image/329/395/k5cs87k0/sari/s/n/g/free-kora-pink-anand-sarees-original-imafb6n3a7bb4frz.jpeg?q=50\n",
      "https://rukminim1.flixcart.com/image/329/395/kb5eikw0/sari/r/s/s/free-embroidery-sari-vaidehi-fashion-unstitched-original-imafskdz3zzzmjez.jpeg?q=50\n",
      "https://rukminim1.flixcart.com/image/329/395/k2urhjk0/sari/c/9/d/free-saaho-rama-om-r-fashion-original-imafkr77wxu7eus2.jpeg?q=50\n",
      "https://rukminim1.flixcart.com/image/329/395/jz4g3gw0/sari/w/4/g/free-hs-pink-mk-trendz-original-imafe6ggcxfkpb9y.jpeg?q=50\n",
      "https://rukminim1.flixcart.com/image/329/395/k58hwnk0/sari/b/k/v/free-ac-06-aahwan-original-imafnutmzteshhbn.jpeg?q=50\n",
      "https://rukminim1.flixcart.com/image/329/395/jxrv4i80/sari/8/a/z/free-rust-red-perfect-wear-original-imafg5wn7mpp5eyz.jpeg?q=50\n",
      "https://rukminim1.flixcart.com/image/329/395/k3hmj680/sari/6/z/j/free-1100sr2042-916sr50-swaron-original-imafcskwfuwgxydy.jpeg?q=50\n",
      "https://rukminim1.flixcart.com/image/329/395/k3xcdjk0pkrrdj/sari/5/n/j/free-pink-hes950-1-hitesh-enterprise-hes950-1-original-imaf5tg4ngb6gc5r.jpeg?q=50\n",
      "https://rukminim1.flixcart.com/image/329/395/sari/z/3/4/1-1-trio-1134-1-2942-1-1086-3-kashvi-sarees-free-original-imaemrvngjg93wgs.jpeg?q=50\n",
      "https://rukminim1.flixcart.com/image/329/395/k51cpe80pkrrdj/sari/t/v/d/free-blue-1499-pooja-fashion-1499-original-imafgw8vt2qz6tgg.jpeg?q=50\n",
      "https://rukminim1.flixcart.com/image/329/395/jx0prbk0/sari/h/g/k/free-fs-panerijhumka-rama-glamup4u-original-imafgu2jznuzrs7g.jpeg?q=50\n",
      "https://rukminim1.flixcart.com/image/329/395/jtuej680/sari/f/g/d/free-a1472-anand-sarees-original-imaff2jzbvzaj2y7.jpeg?q=50\n",
      "https://rukminim1.flixcart.com/image/329/395/jt1tq4w0/sari/y/b/q/free-vjs1137-1-v-j-fashion-original-imafehhjshv3ntjr.jpeg?q=50\n",
      "https://rukminim1.flixcart.com/image/329/395/jvv9zm80/sari/a/x/q/free-cotten-silk-vinayak-trendz-original-imafg9svawvvnam9.jpeg?q=50\n",
      "https://rukminim1.flixcart.com/image/329/395/k7xnukw0/sari/e/8/d/free-khusi-krishna-r-fashion-unstitched-original-imafq22gfteg5gzh.jpeg?q=50\n",
      "https://rukminim1.flixcart.com/image/329/395/k6ci8i80/sari/g/g/2/free-svfsa1436-a-gerorgette-floral-printed-daily-wear-fashion-original-imaf32eygwfqhqgx.jpeg?q=50\n",
      "https://rukminim1.flixcart.com/image/329/395/k6fd47k0/sari/h/z/g/free-malai-red-rangrasiya-corporation-original-imafzs3mp7ffrdyq.jpeg?q=50\n",
      "https://rukminim1.flixcart.com/image/329/395/k5vcya80pkrrdj/sari/d/d/d/free-black-03-winjtax-003-original-imafmr8b9hhqvn3q.jpeg?q=50\n",
      "https://rukminim1.flixcart.com/image/329/395/k4d27ww0/sari/b/k/w/free-2235-pink-1-shreeji-designer-original-imafhyfz7qvnwxbs.jpeg?q=50\n",
      "https://rukminim1.flixcart.com/image/329/395/k6gsk280/sari/v/z/z/free-wedding-peacock-green1-youth-creation-original-imafgzkzkwgqzr6d.jpeg?q=50\n",
      "https://rukminim1.flixcart.com/image/329/395/k4k7f680/sari/w/z/h/free-vardani-kanjivaram-type-saree-anusuya-saree-original-imafjyd7mkvamyg8.jpeg?q=50\n",
      "https://rukminim1.flixcart.com/image/329/395/k3j1z0w0/sari/s/y/c/free-1051-a-renrotic-original-imafkwszphjq4cnd.jpeg?q=50\n",
      "https://rukminim1.flixcart.com/image/329/395/k0vbgy80pkrrdj/sari/a/7/8/purple-blue-multicolor-849sj394-siril-original-imaf994h7d79vqvy.jpeg?q=50\n",
      "https://rukminim1.flixcart.com/image/329/395/k23m4cw0/sari/f/p/a/free-755s85-574s9023-saara-original-imaffdm7zr9qadqw.jpeg?q=50\n",
      "https://rukminim1.flixcart.com/image/329/395/sari/v/x/5/1-1-rc3230aa-vaamsi-free-original-imaehukf97qqnwn2.jpeg?q=50\n",
      "https://rukminim1.flixcart.com/image/329/395/k6ci8i80/sari/c/b/e/free-trending-fashion-the-suhagiya-shopping-original-imafk59fdbszmrtd.jpeg?q=50\n",
      "https://rukminim1.flixcart.com/image/329/395/k6gsk280/sari/s/z/k/free-die-mor-pink-dynamic-import-export-original-imaf7yhpmd98jth2.jpeg?q=50\n",
      "https://rukminim1.flixcart.com/image/329/395/k4n2avk0/sari/g/r/d/free-1340sr7511-swaron-original-imafng9wfh77u3fz.jpeg?q=50\n",
      "https://rukminim1.flixcart.com/image/329/395/k62i5jk0/sari/z/f/a/free-svf1152-3-awomens-latest-georgette-dailywear-partwear-original-imaemydgvarzzfgn.jpeg?q=50\n",
      "https://rukminim1.flixcart.com/image/329/395/jv5k2a80/sari/m/f/z/free-mayuri-navy-blue-red-manjula-saree-original-imafg3zntju6hggm.jpeg?q=50\n",
      "https://rukminim1.flixcart.com/image/329/395/k65d18w0/sari/r/f/a/free-jl-pck4-grn-pink-ab-pisara-original-imafn85mdx8fb2fz.jpeg?q=50\n",
      "https://rukminim1.flixcart.com/image/329/395/k47cgi80/sari/d/a/6/free-vs-111-1-leelavati-original-imafn5yhbwpwfbez.jpeg?q=50\n",
      "https://rukminim1.flixcart.com/image/329/395/juzuavk0/sari/v/d/m/free-846sr103-512sr832-swaron-original-imaex449ytavf6vt.jpeg?q=50\n",
      "https://rukminim1.flixcart.com/image/329/395/jyafukw0/sari/8/u/z/free-silk-saree-lady-style-original-imafgbkbczgkavj3.jpeg?q=50\n",
      "https://rukminim1.flixcart.com/image/329/395/k4vmxzk0/sari/y/a/m/free-1221sr2192-846sr103-swaron-original-imaf9khmz4cad2ja.jpeg?q=50\n",
      "https://rukminim1.flixcart.com/image/329/395/k6fd47k0/sari/a/s/f/free-doly2605-low-ratnavati-original-imafzwbfs2pzcfdj.jpeg?q=50\n",
      "https://rukminim1.flixcart.com/image/329/395/sari/b/m/k/1-1-rolex3064a-vaamsi-original-imaen6zwwbfnzntb.jpeg?q=50\n",
      "https://rukminim1.flixcart.com/image/329/395/k6jnfrk0/sari/c/f/a/free-criiyan-stylished-printed-saree-criyan-original-imafyusg5yqzanf4.jpeg?q=50\n",
      "https://rukminim1.flixcart.com/image/329/395/jcm9fgw0/sari/5/r/v/free-diamod-vaidehi-fashion-original-imaffzmgztmgysjk.jpeg?q=50\n",
      "https://rukminim1.flixcart.com/image/329/395/k5h2jrk0/sari/z/r/g/free-frill-saree101-maroon-sariya-original-imafz4mwmc2ctrqy.jpeg?q=50\n"
     ]
    }
   ],
   "source": [
    "urls=[]\n",
    "for image in images:\n",
    "    source = image.get_attribute('src')\n",
    "    urls.append(source)\n",
    "    print(source)"
   ]
  },
  {
   "cell_type": "code",
   "execution_count": 26,
   "metadata": {},
   "outputs": [
    {
     "name": "stdout",
     "output_type": "stream",
     "text": [
      "Downloading 1 of 40 images from page 2\n",
      "Downloading 2 of 40 images from page 2\n",
      "Downloading 3 of 40 images from page 2\n",
      "Downloading 4 of 40 images from page 2\n",
      "Downloading 5 of 40 images from page 2\n",
      "Downloading 6 of 40 images from page 2\n",
      "Downloading 7 of 40 images from page 2\n",
      "Downloading 8 of 40 images from page 2\n",
      "Downloading 9 of 40 images from page 2\n",
      "Downloading 10 of 40 images from page 2\n",
      "Downloading 11 of 40 images from page 2\n",
      "Downloading 12 of 40 images from page 2\n",
      "Downloading 13 of 40 images from page 2\n",
      "Downloading 14 of 40 images from page 2\n",
      "Downloading 15 of 40 images from page 2\n",
      "Downloading 16 of 40 images from page 2\n",
      "Downloading 17 of 40 images from page 2\n",
      "Downloading 18 of 40 images from page 2\n",
      "Downloading 19 of 40 images from page 2\n",
      "Downloading 20 of 40 images from page 2\n",
      "Downloading 21 of 40 images from page 2\n",
      "Downloading 22 of 40 images from page 2\n",
      "Downloading 23 of 40 images from page 2\n",
      "Downloading 24 of 40 images from page 2\n",
      "Downloading 25 of 40 images from page 2\n",
      "Downloading 26 of 40 images from page 2\n",
      "Downloading 27 of 40 images from page 2\n",
      "Downloading 28 of 40 images from page 2\n",
      "Downloading 29 of 40 images from page 2\n",
      "Downloading 30 of 40 images from page 2\n",
      "Downloading 31 of 40 images from page 2\n",
      "Downloading 32 of 40 images from page 2\n",
      "Downloading 33 of 40 images from page 2\n",
      "Downloading 34 of 40 images from page 2\n",
      "Downloading 35 of 40 images from page 2\n",
      "Downloading 36 of 40 images from page 2\n",
      "Downloading 37 of 40 images from page 2\n",
      "Downloading 38 of 40 images from page 2\n",
      "Downloading 39 of 40 images from page 2\n",
      "Downloading 40 of 40 images from page 2\n"
     ]
    }
   ],
   "source": [
    "page=2\n",
    "for index, link in enumerate(urls):\n",
    "    print(\"Downloading {0} of {1} images from page 2\".format(index+1, len(urls)))\n",
    "    \n",
    "    response = requests.get(link)\n",
    "    with open ('sarees/img_{0}{1}.jpg'.format(index,page),\"wb\") as file:\n",
    "        file.write(response.content)"
   ]
  },
  {
   "cell_type": "code",
   "execution_count": 27,
   "metadata": {},
   "outputs": [
    {
     "data": {
      "text/plain": [
       "80"
      ]
     },
     "execution_count": 27,
     "metadata": {},
     "output_type": "execute_result"
    }
   ],
   "source": [
    "for brand in brands:\n",
    "    product_data['brands'].append(brand.text)\n",
    "len(product_data['brands'])"
   ]
  },
  {
   "cell_type": "code",
   "execution_count": 28,
   "metadata": {},
   "outputs": [
    {
     "data": {
      "text/plain": [
       "80"
      ]
     },
     "execution_count": 28,
     "metadata": {},
     "output_type": "execute_result"
    }
   ],
   "source": [
    "for price in prices:\n",
    "    product_data['prices'].append(price.text)\n",
    "len(product_data['prices'])"
   ]
  },
  {
   "cell_type": "markdown",
   "metadata": {},
   "source": [
    "#for Page3"
   ]
  },
  {
   "cell_type": "code",
   "execution_count": 30,
   "metadata": {},
   "outputs": [],
   "source": [
    "next_page = driver.find_element_by_xpath(\"//a[@class='_3fVaIS']\").click()"
   ]
  },
  {
   "cell_type": "code",
   "execution_count": 31,
   "metadata": {},
   "outputs": [],
   "source": [
    "images=driver.find_elements_by_xpath(\"//img[@class='_3togXc']\")\n",
    "brands=driver.find_elements_by_xpath(\"//div[@class='_2B_pmu']\")\n",
    "prices=driver.find_elements_by_xpath(\"//div[@class='_1vC4OE']\")"
   ]
  },
  {
   "cell_type": "code",
   "execution_count": 32,
   "metadata": {},
   "outputs": [
    {
     "name": "stdout",
     "output_type": "stream",
     "text": [
      "https://rukminim1.flixcart.com/image/329/395/k62i5jk0/sari/z/f/a/free-svf1152-3-awomens-latest-georgette-dailywear-partwear-original-imaemydgvarzzfgn.jpeg?q=50\n",
      "https://rukminim1.flixcart.com/image/329/395/jvv9zm80/sari/a/x/q/free-cotten-silk-vinayak-trendz-original-imafg9svawvvnam9.jpeg?q=50\n",
      "https://rukminim1.flixcart.com/image/329/395/k6qsn0w0/sari/k/v/d/free-lycra-leave-saree-g-stuff-fashion-original-imafp4rzr7usfpet.jpeg?q=50\n",
      "https://rukminim1.flixcart.com/image/329/395/k66sh3k0/sari/q/n/g/free-pattu-saree-ejoty-fashion-original-imafzp8gmy4ksvd2.jpeg?q=50\n",
      "https://rukminim1.flixcart.com/image/329/395/k687wy80/sari/h/7/g/free-patti-maroon-jiyanfashionretail-original-imafzqfnqqs6yhjy.jpeg?q=50\n",
      "https://rukminim1.flixcart.com/image/329/395/k5cs87k0/sari/m/d/h/free-kora-blue-anand-sarees-original-imafbac9gfyndneh.jpeg?q=50\n",
      "https://rukminim1.flixcart.com/image/329/395/k6l2vm80/sari/b/y/e/free-lycra-saree-a3-fashion-original-imafzrmhzvyxnk6p.jpeg?q=50\n",
      "https://rukminim1.flixcart.com/image/329/395/jz30nm80/sari/b/8/k/free-k-s-007-kapuriya-fab-original-imafbb9fsf2zp4yx.jpeg?q=50\n",
      "https://rukminim1.flixcart.com/image/329/395/k65d18w0/sari/8/r/q/free-jl-pck4-bl-nbl-ab-pisara-original-imafn85mj5u4wajz.jpeg?q=50\n",
      "https://rukminim1.flixcart.com/image/329/395/k3xcdjk0pkrrdj/sari/z/a/y/free-yellow-mastani-weaving-winza-designer-mastani-weaving-original-imaf399xvgxqhfkz.jpeg?q=50\n",
      "https://rukminim1.flixcart.com/image/329/395/kay9bbk0/sari/a/s/z/free-1262-5-kashvi-sarees-unstitched-original-imafsepbpnpbxgsz.jpeg?q=50\n",
      "https://rukminim1.flixcart.com/image/329/395/k6dxocw0/sari/u/c/p/free-redm01-sellous-original-imafnbtm3bagzhvh.jpeg?q=50\n",
      "https://rukminim1.flixcart.com/image/329/395/k6i7zww0/sari/k/6/f/free-wedding-peacock-pink1-youth-creation-original-imafgzkzmpvvu6gd.jpeg?q=50\n",
      "https://rukminim1.flixcart.com/image/329/395/k3xcdjk0/sari/e/x/h/free-simmba-rama-navy-blue-perfect-wear-original-imafmxayk5wzrga2.jpeg?q=50\n",
      "https://rukminim1.flixcart.com/image/329/395/k7xnukw0/sari/u/w/r/free-parevadi-krishna-r-fashion-unstitched-original-imafq2g4udd8pwe4.jpeg?q=50\n",
      "https://rukminim1.flixcart.com/image/329/395/k5si2kw0/sari/z/h/t/free-velvet-sari-cozena-original-imafj8y6ebhmrmbh.jpeg?q=50\n",
      "https://rukminim1.flixcart.com/image/329/395/k6ci8i80/sari/q/8/u/free-a-gerorgette-floral-printed-daily-wear-fashion-bollywood-original-imafkbp8zygtpgwg.jpeg?q=50\n",
      "https://rukminim1.flixcart.com/image/329/395/k4k7f680/sari/f/g/k/free-2279-online-bazaar-original-imafn4kfnfqpq9ck.jpeg?q=50\n",
      "https://rukminim1.flixcart.com/image/329/395/k1gr2q80/sari/v/e/9/free-816s241-849s392-saara-original-imaf994by9u7ejve.jpeg?q=50\n",
      "https://rukminim1.flixcart.com/image/329/395/kbs9k7k0/sari/q/v/2/free-mission-shivanya-fashion-unstitched-original-imaftfbcufdxf4qk.jpeg?q=50\n",
      "https://rukminim1.flixcart.com/image/329/395/jt8yxe80/sari/d/n/h/free-nbs366-2-nightblue-original-imaffhzhsbnjfgfq.jpeg?q=50\n",
      "https://rukminim1.flixcart.com/image/329/395/jc5458w0/sari/p/g/m/free-1344-anand-sarees-original-imaffccqbnvcd7gm.jpeg?q=50\n",
      "https://rukminim1.flixcart.com/image/329/395/jnm2efk0/sari/a/6/k/free-725s4-saara-original-imafa4pmpmysdzh6.jpeg?q=50\n",
      "https://rukminim1.flixcart.com/image/329/395/k58hwnk0/sari/e/u/z/free-parag-royal-blue-red-fine-wear-original-imafnyrcbhgjqgkt.jpeg?q=50\n",
      "https://rukminim1.flixcart.com/image/329/395/k62i5jk0/sari/w/f/n/free-svf11ast-blouse-jabali-enterprise-original-imaempjvcuqbhe2g.jpeg?q=50\n",
      "https://rukminim1.flixcart.com/image/329/395/jped7rk0/sari/q/6/e/free-georgette-pink-ruchika-fashion-original-imafbnh88rh8y4x2.jpeg?q=50\n",
      "https://rukminim1.flixcart.com/image/329/395/k4ss2a80/sari/s/e/b/free-1051b-fashion-day-original-imafnmt93zgkktmz.jpeg?q=50\n",
      "https://rukminim1.flixcart.com/image/329/395/k6fd47k0pkrrdj/sari/n/j/u/green-beige-red-yellow-1363sj505-1399sj503-siril-original-imafntm5uvc8jyg2.jpeg?q=50\n",
      "https://rukminim1.flixcart.com/image/329/395/k7c88sw0/sari/j/z/y/free-ladli-krishna-r-fashion-original-imafphxuxmkutnt8.jpeg?q=50\n",
      "https://rukminim1.flixcart.com/image/329/395/k7p37gw0/sari/g/g/9/free-tulika-pink-febo-fashion-unstitched-original-imafpvpgdt4bm8eu.jpeg?q=50\n",
      "https://rukminim1.flixcart.com/image/329/395/jed4sy80/sari/w/e/q/free-1412-anand-sarees-original-imaf32f2vpkhjyhk.jpeg?q=50\n",
      "https://rukminim1.flixcart.com/image/329/395/jkzrc7k0/sari/4/g/w/free-mango-black-ng-creation-original-imaf5hhx5dz6hb6c.jpeg?q=50\n",
      "https://rukminim1.flixcart.com/image/329/395/kay9bbk0/sari/a/s/z/free-1262-5-kashvi-sarees-unstitched-original-imafsepbpnpbxgsz.jpeg?q=50\n",
      "https://rukminim1.flixcart.com/image/329/395/k6v2ykw0/sari/w/r/9/free-l-patti-grey-market-magic-world-original-imafp7h3a49gf7xh.jpeg?q=50\n",
      "https://rukminim1.flixcart.com/image/329/395/k62i5jk0/sari/g/b/6/free-svf1164-1-awomens-latest-georgette-dailywear-partwear-original-imaemydkxnkhtv6d.jpeg?q=50\n",
      "https://rukminim1.flixcart.com/image/329/395/k612pow0/sari/d/j/y/free-svf1164-3-awomens-latest-georgette-dailywear-partwear-original-imaempzvhuyqp3ut.jpeg?q=50\n",
      "https://rukminim1.flixcart.com/image/329/395/k4vmxzk0/sari/k/z/6/free-815sr211-1159sr84-swaron-original-imaf8j52x3ydxajb.jpeg?q=50\n",
      "https://rukminim1.flixcart.com/image/329/395/jkim1zk0/sari/q/h/s/free-anushka-panchantra-blue-royal-blue-indian-beautiful-original-imaff2hqwtfrze6z.jpeg?q=50\n",
      "https://rukminim1.flixcart.com/image/329/395/k6gsk280/sari/n/e/a/free-die-mor-orange-dynamic-import-export-original-imaf7fhzgzhau2gb.jpeg?q=50\n",
      "https://rukminim1.flixcart.com/image/329/395/k5h2jrk0/sari/y/h/h/free-butterfly-pink-ditisa-fashion-original-imafnab8zsh5svzj.jpeg?q=50\n"
     ]
    }
   ],
   "source": [
    "urls=[]\n",
    "for image in images:\n",
    "    source = image.get_attribute('src')\n",
    "    urls.append(source)\n",
    "    print(source)"
   ]
  },
  {
   "cell_type": "code",
   "execution_count": 33,
   "metadata": {},
   "outputs": [
    {
     "name": "stdout",
     "output_type": "stream",
     "text": [
      "Downloading 1 of 40 images from page 3\n",
      "Downloading 2 of 40 images from page 3\n",
      "Downloading 3 of 40 images from page 3\n",
      "Downloading 4 of 40 images from page 3\n",
      "Downloading 5 of 40 images from page 3\n",
      "Downloading 6 of 40 images from page 3\n",
      "Downloading 7 of 40 images from page 3\n",
      "Downloading 8 of 40 images from page 3\n",
      "Downloading 9 of 40 images from page 3\n",
      "Downloading 10 of 40 images from page 3\n",
      "Downloading 11 of 40 images from page 3\n",
      "Downloading 12 of 40 images from page 3\n",
      "Downloading 13 of 40 images from page 3\n",
      "Downloading 14 of 40 images from page 3\n",
      "Downloading 15 of 40 images from page 3\n",
      "Downloading 16 of 40 images from page 3\n",
      "Downloading 17 of 40 images from page 3\n",
      "Downloading 18 of 40 images from page 3\n",
      "Downloading 19 of 40 images from page 3\n",
      "Downloading 20 of 40 images from page 3\n",
      "Downloading 21 of 40 images from page 3\n",
      "Downloading 22 of 40 images from page 3\n",
      "Downloading 23 of 40 images from page 3\n",
      "Downloading 24 of 40 images from page 3\n",
      "Downloading 25 of 40 images from page 3\n",
      "Downloading 26 of 40 images from page 3\n",
      "Downloading 27 of 40 images from page 3\n",
      "Downloading 28 of 40 images from page 3\n",
      "Downloading 29 of 40 images from page 3\n",
      "Downloading 30 of 40 images from page 3\n",
      "Downloading 31 of 40 images from page 3\n",
      "Downloading 32 of 40 images from page 3\n",
      "Downloading 33 of 40 images from page 3\n",
      "Downloading 34 of 40 images from page 3\n",
      "Downloading 35 of 40 images from page 3\n",
      "Downloading 36 of 40 images from page 3\n",
      "Downloading 37 of 40 images from page 3\n",
      "Downloading 38 of 40 images from page 3\n",
      "Downloading 39 of 40 images from page 3\n",
      "Downloading 40 of 40 images from page 3\n"
     ]
    }
   ],
   "source": [
    "page=3\n",
    "for index, link in enumerate(urls):\n",
    "    print(\"Downloading {0} of {1} images from page 3\".format(index+1, len(urls)))\n",
    "    \n",
    "    response = requests.get(link)\n",
    "    with open ('sarees/img_{0}{1}.jpg'.format(index,page),\"wb\") as file:\n",
    "        file.write(response.content)"
   ]
  },
  {
   "cell_type": "code",
   "execution_count": 34,
   "metadata": {},
   "outputs": [
    {
     "data": {
      "text/plain": [
       "120"
      ]
     },
     "execution_count": 34,
     "metadata": {},
     "output_type": "execute_result"
    }
   ],
   "source": [
    "for brand in brands:\n",
    "    product_data['brands'].append(brand.text)\n",
    "len(product_data['brands'])"
   ]
  },
  {
   "cell_type": "code",
   "execution_count": 35,
   "metadata": {},
   "outputs": [
    {
     "data": {
      "text/plain": [
       "120"
      ]
     },
     "execution_count": 35,
     "metadata": {},
     "output_type": "execute_result"
    }
   ],
   "source": [
    "for price in prices:\n",
    "    product_data['prices'].append(price.text)\n",
    "len(product_data['prices'])"
   ]
  },
  {
   "cell_type": "code",
   "execution_count": null,
   "metadata": {},
   "outputs": [],
   "source": []
  }
 ],
 "metadata": {
  "kernelspec": {
   "display_name": "Python 3",
   "language": "python",
   "name": "python3"
  },
  "language_info": {
   "codemirror_mode": {
    "name": "ipython",
    "version": 3
   },
   "file_extension": ".py",
   "mimetype": "text/x-python",
   "name": "python",
   "nbconvert_exporter": "python",
   "pygments_lexer": "ipython3",
   "version": "3.7.6"
  }
 },
 "nbformat": 4,
 "nbformat_minor": 4
}
