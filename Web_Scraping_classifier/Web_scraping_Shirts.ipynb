{
 "cells": [
  {
   "cell_type": "code",
   "execution_count": 1,
   "metadata": {},
   "outputs": [],
   "source": [
    "from selenium import webdriver\n",
    "import os"
   ]
  },
  {
   "cell_type": "code",
   "execution_count": 35,
   "metadata": {},
   "outputs": [],
   "source": [
    "driver=webdriver.Chrome(executable_path='C:/Users/AKSHAY/anaconda3/Lib/site-packages/selenium/chromedriver_win32/chromedriver.exe')"
   ]
  },
  {
   "cell_type": "code",
   "execution_count": 36,
   "metadata": {},
   "outputs": [],
   "source": [
    "my_page = driver.get(\"https://www.flipkart.com/search?q=men+shirts&sid=clo%2Cash%2Caxc%2Cmmk%2Ckp7&as=on&as-show=on&otracker=AS_QueryStore_OrganicAutoSuggest_1_10_na_na_na&otracker1=AS_QueryStore_OrganicAutoSuggest_1_10_na_na_na&as-pos=1&as-type=RECENT&suggestionId=men+shirts%7CCasual+Shirts&requestId=481611b1-28d1-49c5-bb3c-d50b474900bb&as-backfill=on\")"
   ]
  },
  {
   "cell_type": "code",
   "execution_count": 23,
   "metadata": {},
   "outputs": [],
   "source": [
    "def make_directory(dirname):\n",
    "    current_path = os.getcwd()\n",
    "    path=os.path.join(current_path, dirname)\n",
    "    if not os.path.exists(path):\n",
    "        os.makedirs(path)"
   ]
  },
  {
   "cell_type": "code",
   "execution_count": 25,
   "metadata": {},
   "outputs": [],
   "source": [
    "make_directory(\"Shirts_flip\")"
   ]
  },
  {
   "cell_type": "code",
   "execution_count": 26,
   "metadata": {},
   "outputs": [],
   "source": [
    "images=driver.find_elements_by_xpath(\"//img[@class='_3togXc']\")"
   ]
  },
  {
   "cell_type": "code",
   "execution_count": 27,
   "metadata": {},
   "outputs": [
    {
     "name": "stdout",
     "output_type": "stream",
     "text": [
      "40\n"
     ]
    }
   ],
   "source": [
    "print(len(images))"
   ]
  },
  {
   "cell_type": "code",
   "execution_count": 28,
   "metadata": {},
   "outputs": [
    {
     "name": "stdout",
     "output_type": "stream",
     "text": [
      "https://rukminim1.flixcart.com/image/329/395/k55n0y80/shirt/z/3/k/m-hlsh009425-highlander-original-imafnwmzffusge6z.jpeg?q=50\n",
      "https://rukminim1.flixcart.com/image/329/395/jt8yxe80/shirt/t/t/n/m-arhf-gr-base-41-original-imafen82rhxmpsg8.jpeg?q=50\n",
      "https://rukminim1.flixcart.com/image/329/395/k70spzk0/shirt/q/z/b/m-hlsh009599-highlander-original-imafpchsbadpy5yv.jpeg?q=50\n",
      "https://rukminim1.flixcart.com/image/329/395/jrdt8cw0/shirt/t/h/d/40-skcsh-1106-mao-fubar-original-imafd6vmgygzhvbp.jpeg?q=50\n",
      "https://rukminim1.flixcart.com/image/329/395/k70spzk0/shirt/g/r/g/m-hlsh009048-highlander-original-imafpchn8muhzv5e.jpeg?q=50\n",
      "https://rukminim1.flixcart.com/image/329/395/jur9nrk0/shirt/k/g/y/s-cc201-skyblue-dennis-lingo-original-imaffhsyqsrmp2vh.jpeg?q=50\n",
      "https://rukminim1.flixcart.com/image/329/395/k70spzk0/shirt/7/q/x/m-hlsh010077-highlander-original-imafpchv4wx7f7yy.jpeg?q=50\n",
      "https://rukminim1.flixcart.com/image/329/395/k0o69ow0/shirt/a/n/3/xl-cm-st101-cobio-man-original-imafkbyr9nj6thhh.jpeg?q=50\n",
      "https://rukminim1.flixcart.com/image/329/395/k70spzk0/shirt/w/u/w/m-hlsh010207-highlander-original-imafpchwbcswym4u.jpeg?q=50\n",
      "https://rukminim1.flixcart.com/image/329/395/k7usyvk0/shirt/t/h/w/xxl-hs-15-jai-textiles-original-imafqy2aznkzmdy3.jpeg?q=50\n",
      "https://rukminim1.flixcart.com/image/329/395/k70spzk0/shirt/4/e/z/m-hlsh010203-highlander-original-imafpchwprw6gu5j.jpeg?q=50\n",
      "https://rukminim1.flixcart.com/image/329/395/jzog9e80/shirt/h/h/q/m-cb-chaina-black-tap-in-original-imafjn5rg8kh68hx.jpeg?q=50\n",
      "https://rukminim1.flixcart.com/image/329/395/k0o69ow0/shirt/a/n/3/xl-cm-st101-cobio-man-original-imafkbyrrczdrcgm.jpeg?q=50\n",
      "https://rukminim1.flixcart.com/image/329/395/jlsc58w0/shirt/g/n/b/36-sh702-sky-blue-36-zombom-original-imaf8sfuzjhkhyqc.jpeg?q=50\n",
      "https://rukminim1.flixcart.com/image/329/395/k4bms280/shirt/5/z/6/40-dlm484-deelmo-original-imafn969rxheeent.jpeg?q=50\n",
      "https://rukminim1.flixcart.com/image/329/395/jvy4vbk0/shirt/d/k/z/m-hlsh008832-highlander-original-imafgqhagbvrgxzd.jpeg?q=50\n",
      "https://rukminim1.flixcart.com/image/329/395/k8t3jbk0/shirt/h/a/n/39-shkc-top110-l-pu-fubar-original-imafqqznyyu3vuu5.jpeg?q=50\n",
      "https://rukminim1.flixcart.com/image/329/395/kavefm80/shirt/q/h/4/m-mss20csh0119a-metronaut-original-imafscr7grubyzge.jpeg?q=50\n",
      "https://rukminim1.flixcart.com/image/329/395/jzog9e80/shirt/k/h/x/xl-cb-chaina-maroon-tap-in-original-imafjn5ryazztaaf.jpeg?q=50\n",
      "https://rukminim1.flixcart.com/image/329/395/jmdrr0w0/shirt/q/q/r/xxl-tblwtshirtful-sh4-tripr-original-imaf9ajwb3mfbhmh.jpeg?q=50\n",
      "https://rukminim1.flixcart.com/image/329/395/k70spzk0/shirt/p/p/e/m-hlsh008853-highlander-original-imafpchqpvfrdmvc.jpeg?q=50\n",
      "https://rukminim1.flixcart.com/image/329/395/jmkwya80/shirt/r/g/b/m-lup-g-u-turn-original-imaf7szrzxepnjsp.jpeg?q=50\n",
      "https://rukminim1.flixcart.com/image/329/395/k70spzk0/shirt/z/c/g/m-hlsh009603-highlander-original-imafpchszb9z5hgu.jpeg?q=50\n",
      "https://rukminim1.flixcart.com/image/329/395/k7usyvk0/shirt/w/4/8/m-ufsh0774-u-s-polo-association-original-imafpyzgfhp9keqh.jpeg?q=50\n",
      "https://rukminim1.flixcart.com/image/329/395/kc7zekw0/shirt/h/f/t/xl-l37661cb0z17-lee-original-imafte9fxxdkkzqt.jpeg?q=50\n",
      "https://rukminim1.flixcart.com/image/329/395/k70spzk0/shirt/m/r/f/m-hlsh009445-highlander-original-imafpchnz3xnbkzm.jpeg?q=50\n",
      "https://rukminim1.flixcart.com/image/329/395/k52s58w0/shirt/y/v/9/40-dgm355-digimi-original-imafn7u6xjsvnxrh.jpeg?q=50\n",
      "https://rukminim1.flixcart.com/image/329/395/k70spzk0/shirt/q/f/m/m-hlsh009269-highlander-original-imafpchzhbhhfyxh.jpeg?q=50\n",
      "https://rukminim1.flixcart.com/image/329/395/k70spzk0/shirt/d/v/8/m-hlsh009517-highlander-original-imafpchzhckaykn8.jpeg?q=50\n",
      "https://rukminim1.flixcart.com/image/329/395/kc29n680/shirt/w/p/u/44-assfwmofp15810-allen-solly-original-imaft9umufx9nwfj.jpeg?q=50\n",
      "https://rukminim1.flixcart.com/image/329/395/kc3p30w0/shirt/y/y/g/39-assfwmof226941-allen-solly-original-imaftarhhzreah7h.jpeg?q=50\n",
      "https://rukminim1.flixcart.com/image/329/395/k70spzk0/shirt/q/k/f/m-hlsh009774-highlander-original-imafpchzmbs9tvuf.jpeg?q=50\n",
      "https://rukminim1.flixcart.com/image/329/395/k70spzk0/shirt/5/m/6/m-hlsh009706-highlander-original-imafpchzd2ahng7v.jpeg?q=50\n",
      "https://rukminim1.flixcart.com/image/329/395/k70spzk0/shirt/z/u/g/m-hlsh009016-highlander-original-imafpchnzgwfzhye.jpeg?q=50\n",
      "https://rukminim1.flixcart.com/image/329/395/k70spzk0/shirt/7/d/x/m-hlsh010218-highlander-original-imafpchwrrvcz5zg.jpeg?q=50\n",
      "https://rukminim1.flixcart.com/image/329/395/jmkwya80/shirt/b/v/p/l-lup-d-u-turn-original-imaf7szrp8cfgzqv.jpeg?q=50\n",
      "https://rukminim1.flixcart.com/image/329/395/k8by93k0/shirt/n/4/w/l-cm-st165-cobio-man-original-imafqdcyjcxfbcxd.jpeg?q=50\n",
      "https://rukminim1.flixcart.com/image/329/395/jped7rk0/shirt/2/t/j/xl-mishicasualshirts02-mishika-creations-original-imafa3yfffstvhhy.jpeg?q=50\n",
      "https://rukminim1.flixcart.com/image/329/395/jrf8o7k0/shirt/t/h/d/39-skcsh-1106-mao-fubar-original-imafd6vmhkcktrj4.jpeg?q=50\n",
      "https://rukminim1.flixcart.com/image/329/395/k4bms280/shirt/5/t/x/38-dlm490-deelmo-original-imafn969hccxshnb.jpeg?q=50\n"
     ]
    }
   ],
   "source": [
    "urls=[]\n",
    "for image in images:\n",
    "    source = image.get_attribute('src')\n",
    "    urls.append(source)\n",
    "    print(source)"
   ]
  },
  {
   "cell_type": "code",
   "execution_count": 29,
   "metadata": {},
   "outputs": [],
   "source": [
    "import shutil\n",
    "import requests"
   ]
  },
  {
   "cell_type": "code",
   "execution_count": 30,
   "metadata": {},
   "outputs": [
    {
     "name": "stdout",
     "output_type": "stream",
     "text": [
      "Downloading 1 of 40 images from page 1\n",
      "Downloading 2 of 40 images from page 1\n",
      "Downloading 3 of 40 images from page 1\n",
      "Downloading 4 of 40 images from page 1\n",
      "Downloading 5 of 40 images from page 1\n",
      "Downloading 6 of 40 images from page 1\n",
      "Downloading 7 of 40 images from page 1\n",
      "Downloading 8 of 40 images from page 1\n",
      "Downloading 9 of 40 images from page 1\n",
      "Downloading 10 of 40 images from page 1\n",
      "Downloading 11 of 40 images from page 1\n",
      "Downloading 12 of 40 images from page 1\n",
      "Downloading 13 of 40 images from page 1\n",
      "Downloading 14 of 40 images from page 1\n",
      "Downloading 15 of 40 images from page 1\n",
      "Downloading 16 of 40 images from page 1\n",
      "Downloading 17 of 40 images from page 1\n",
      "Downloading 18 of 40 images from page 1\n",
      "Downloading 19 of 40 images from page 1\n",
      "Downloading 20 of 40 images from page 1\n",
      "Downloading 21 of 40 images from page 1\n",
      "Downloading 22 of 40 images from page 1\n",
      "Downloading 23 of 40 images from page 1\n",
      "Downloading 24 of 40 images from page 1\n",
      "Downloading 25 of 40 images from page 1\n",
      "Downloading 26 of 40 images from page 1\n",
      "Downloading 27 of 40 images from page 1\n",
      "Downloading 28 of 40 images from page 1\n",
      "Downloading 29 of 40 images from page 1\n",
      "Downloading 30 of 40 images from page 1\n",
      "Downloading 31 of 40 images from page 1\n",
      "Downloading 32 of 40 images from page 1\n",
      "Downloading 33 of 40 images from page 1\n",
      "Downloading 34 of 40 images from page 1\n",
      "Downloading 35 of 40 images from page 1\n",
      "Downloading 36 of 40 images from page 1\n",
      "Downloading 37 of 40 images from page 1\n",
      "Downloading 38 of 40 images from page 1\n",
      "Downloading 39 of 40 images from page 1\n",
      "Downloading 40 of 40 images from page 1\n"
     ]
    }
   ],
   "source": [
    "page=1\n",
    "for index, link in enumerate(urls):\n",
    "    print(\"Downloading {0} of {1} images from page 1\".format(index+1, len(urls)))\n",
    "    \n",
    "    response = requests.get(link)\n",
    "    with open ('Shirts_flip/img_{0}{1}.jpg'.format(index,page),\"wb\") as file:\n",
    "        file.write(response.content)"
   ]
  },
  {
   "cell_type": "markdown",
   "metadata": {},
   "source": [
    "# Page2"
   ]
  },
  {
   "cell_type": "code",
   "execution_count": 31,
   "metadata": {},
   "outputs": [],
   "source": [
    "next_page = driver.find_element_by_xpath(\"//a[@class='_3fVaIS']\").click()"
   ]
  },
  {
   "cell_type": "code",
   "execution_count": 38,
   "metadata": {},
   "outputs": [],
   "source": [
    "images=driver.find_elements_by_xpath(\"//img[@class='_3togXc']\")"
   ]
  },
  {
   "cell_type": "code",
   "execution_count": 46,
   "metadata": {},
   "outputs": [
    {
     "name": "stdout",
     "output_type": "stream",
     "text": [
      "https://rukminim1.flixcart.com/image/329/395/k70spzk0/shirt/n/u/3/m-hlsh009039-highlander-original-imafpchnhgh37vy6.jpeg?q=50\n",
      "https://rukminim1.flixcart.com/image/329/395/k70spzk0/shirt/p/p/e/m-hlsh008853-highlander-original-imafpchqpvfrdmvc.jpeg?q=50\n",
      "https://rukminim1.flixcart.com/image/329/395/k70spzk0/shirt/d/m/4/m-hlsh009122-highlander-original-imafpchnybvbhjd7.jpeg?q=50\n",
      "https://rukminim1.flixcart.com/image/329/395/k8by93k0/shirt/n/4/w/l-cm-st165-cobio-man-original-imafqdcyjcxfbcxd.jpeg?q=50\n",
      "https://rukminim1.flixcart.com/image/329/395/jz05rww0/shirt/7/m/s/s-marroon-sst-try-this-original-imafghg2xpkgbhtv.jpeg?q=50\n",
      "https://rukminim1.flixcart.com/image/329/395/jw0zr0w0/shirt/g/j/m/2xl-rs18mnc-r-rope-original-imaf733ewvhwjjdr.jpeg?q=50\n",
      "https://rukminim1.flixcart.com/image/329/395/k7c88sw0/shirt/d/h/w/l-hlsh011440-highlander-original-imafphpujebchuyb.jpeg?q=50\n",
      "https://rukminim1.flixcart.com/image/329/395/jjolt3k0/shirt/j/f/m/l-c301-purple-dennis-lingo-original-imaf7588n2hjvzjq.jpeg?q=50\n",
      "https://rukminim1.flixcart.com/image/329/395/jnqcpzk0/shirt/z/g/2/s-sshh-chi-8-jai-textiles-original-imafa9g9zzgvrfxx.jpeg?q=50\n",
      "https://rukminim1.flixcart.com/image/329/395/k70spzk0/shirt/5/p/s/m-hlsh009565-highlander-original-imafpchpx5z5rxnd.jpeg?q=50\n",
      "https://rukminim1.flixcart.com/image/329/395/jybvafk0/shirt/z/y/w/l-jk156-try-this-original-imafghg7pyrugr3v.jpeg?q=50\n",
      "https://rukminim1.flixcart.com/image/329/395/k70spzk0/shirt/y/g/p/m-hlsh009198-highlander-original-imafpchn3rsjgufb.jpeg?q=50\n",
      "https://rukminim1.flixcart.com/image/329/395/k6l2vm80/shirt/u/j/f/xl-373-jolly-creation-original-imafpyqjzyzd63zg.jpeg?q=50\n",
      "https://rukminim1.flixcart.com/image/329/395/k70spzk0/shirt/7/y/a/m-hlsh009166-highlander-original-imafpchnehagygez.jpeg?q=50\n",
      "https://rukminim1.flixcart.com/image/329/395/jd94h3k0/shirt/b/v/x/m-hlsh009384-teal-black-highlander-original-imaeza2cwa3fxddt.jpeg?q=50\n",
      "https://rukminim1.flixcart.com/image/329/395/k01b8280/shirt/9/h/f/xxl-china-half-black-base-41-original-imafjvxggjfgzhqv.jpeg?q=50\n",
      "https://rukminim1.flixcart.com/image/329/395/jybvafk0/shirt/z/y/w/l-jk156-try-this-original-imafghg7pyrugr3v.jpeg?q=50\n",
      "https://rukminim1.flixcart.com/image/329/395/k4u7i4w0/shirt/w/t/z/s-half-army-dp-green-tap-in-original-imafnnmrbyfts73t.jpeg?q=50\n",
      "https://rukminim1.flixcart.com/image/329/395/jnqcpzk0/shirt/b/b/h/xxl-sshh-chi-6-jai-textiles-original-imafa9g9cr7axpps.jpeg?q=50\n",
      "https://rukminim1.flixcart.com/image/329/395/jy3anbk0/shirt/e/z/y/l-c301-black-dennis-lingo-original-imafgeu6xveg8v9y.jpeg?q=50\n",
      "https://rukminim1.flixcart.com/image/329/395/kc3p30w0/shirt/k/l/m/42-assfwmof092085-allen-solly-original-imaftarp4353shaz.jpeg?q=50\n",
      "https://rukminim1.flixcart.com/image/329/395/k70spzk0/shirt/5/a/3/m-hlsh010282-highlander-original-imafpchwgwhpezyf.jpeg?q=50\n",
      "https://rukminim1.flixcart.com/image/329/395/jyug0i80/shirt/d/6/j/xxl-cc201-b-green-dennis-lingo-original-imafjyyxh4euzguy.jpeg?q=50\n",
      "https://rukminim1.flixcart.com/image/329/395/jtx9evk0/shirt/t/j/h/xl-c301-white-dennis-lingo-original-imaff64hfadhsgfa.jpeg?q=50\n",
      "https://rukminim1.flixcart.com/image/329/395/jqtt2fk0/shirt/w/e/q/5xl-499-grn-5th-anfold-original-imafcr6yegkzhtuy.jpeg?q=50\n",
      "https://rukminim1.flixcart.com/image/329/395/k0e66q80/shirt/8/g/g/m-m-ss19-csh-005e-metronaut-original-imafk6y6qx6c9mhh.jpeg?q=50\n",
      "https://rukminim1.flixcart.com/image/329/395/k3orqfk0/shirt/t/j/g/s-mens-casual-shirt-sky-indoprimo-original-imafmrhh7e9qm3nx.jpeg?q=50\n",
      "https://rukminim1.flixcart.com/image/329/395/shirt/9/x/j/hlsh009053-dark-blue-dark-blue-highlander-m-original-imaephsvh6unszpq.jpeg?q=50\n",
      "https://rukminim1.flixcart.com/image/329/395/jz8qf0w0/shirt/k/s/d/m-cotton-casual-fancy-shirt-m10-indoprimo-original-imafjacuvt5ykvjq.jpeg?q=50\n",
      "https://rukminim1.flixcart.com/image/329/395/juu4jgw0/shirt/c/a/h/m-m-ss19-c-fsh-001e-metronaut-original-imaffvuqnyk7bzhr.jpeg?q=50\n",
      "https://rukminim1.flixcart.com/image/329/395/jzzvs7k0/shirt/z/f/r/m-china-half-lb-base-41-original-imafjvxhzsrp4r9j.jpeg?q=50\n",
      "https://rukminim1.flixcart.com/image/329/395/jlsc58w0/shirt/x/s/t/44-sh705-black-36-zombom-original-imaf8s22kjkrfwnk.jpeg?q=50\n",
      "https://rukminim1.flixcart.com/image/329/395/k7nnrm80/shirt/e/n/u/xl-sksh-bb110-xl-ma-fubar-original-imafpuajnhvkdst3.jpeg?q=50\n",
      "https://rukminim1.flixcart.com/image/329/395/jnkmykw0/shirt/t/n/g/l-gg370-gespo-original-imafa8bzwxgfnduq.jpeg?q=50\n",
      "https://rukminim1.flixcart.com/image/329/395/k55n0y80/shirt/h/v/x/s-sh009405-highlander-original-imafnwnh6wvwsn9z.jpeg?q=50\n",
      "https://rukminim1.flixcart.com/image/329/395/k70spzk0/shirt/9/r/x/m-hlsh010296-highlander-original-imafpchwdrjezfdm.jpeg?q=50\n",
      "https://rukminim1.flixcart.com/image/329/395/jzfvma80/shirt/4/j/a/xl-xtl29-xtl-original-imafjfh8z7yph8pn.jpeg?q=50\n",
      "https://rukminim1.flixcart.com/image/329/395/k70spzk0/shirt/v/g/5/m-hlsh010256-highlander-original-imafpchwhuyzg4c6.jpeg?q=50\n",
      "https://rukminim1.flixcart.com/image/329/395/k70spzk0/shirt/n/q/z/m-hlsh009655-highlander-original-imafpchnexygchzn.jpeg?q=50\n",
      "https://rukminim1.flixcart.com/image/329/395/kavefm80/shirt/e/p/d/m-m-ss19-csh-005cc-metronaut-original-imafscr7r8jqmv7e.jpeg?q=50\n"
     ]
    }
   ],
   "source": [
    "urls=[]\n",
    "for image in images:\n",
    "    source = image.get_attribute('src')\n",
    "    urls.append(source)\n",
    "    print(source)"
   ]
  },
  {
   "cell_type": "code",
   "execution_count": 47,
   "metadata": {},
   "outputs": [
    {
     "name": "stdout",
     "output_type": "stream",
     "text": [
      "Downloading 1 of 40 images from page 2\n",
      "Downloading 2 of 40 images from page 2\n",
      "Downloading 3 of 40 images from page 2\n",
      "Downloading 4 of 40 images from page 2\n",
      "Downloading 5 of 40 images from page 2\n",
      "Downloading 6 of 40 images from page 2\n",
      "Downloading 7 of 40 images from page 2\n",
      "Downloading 8 of 40 images from page 2\n",
      "Downloading 9 of 40 images from page 2\n",
      "Downloading 10 of 40 images from page 2\n",
      "Downloading 11 of 40 images from page 2\n",
      "Downloading 12 of 40 images from page 2\n",
      "Downloading 13 of 40 images from page 2\n",
      "Downloading 14 of 40 images from page 2\n",
      "Downloading 15 of 40 images from page 2\n",
      "Downloading 16 of 40 images from page 2\n",
      "Downloading 17 of 40 images from page 2\n",
      "Downloading 18 of 40 images from page 2\n",
      "Downloading 19 of 40 images from page 2\n",
      "Downloading 20 of 40 images from page 2\n",
      "Downloading 21 of 40 images from page 2\n",
      "Downloading 22 of 40 images from page 2\n",
      "Downloading 23 of 40 images from page 2\n",
      "Downloading 24 of 40 images from page 2\n",
      "Downloading 25 of 40 images from page 2\n",
      "Downloading 26 of 40 images from page 2\n",
      "Downloading 27 of 40 images from page 2\n",
      "Downloading 28 of 40 images from page 2\n",
      "Downloading 29 of 40 images from page 2\n",
      "Downloading 30 of 40 images from page 2\n",
      "Downloading 31 of 40 images from page 2\n",
      "Downloading 32 of 40 images from page 2\n",
      "Downloading 33 of 40 images from page 2\n",
      "Downloading 34 of 40 images from page 2\n",
      "Downloading 35 of 40 images from page 2\n",
      "Downloading 36 of 40 images from page 2\n",
      "Downloading 37 of 40 images from page 2\n",
      "Downloading 38 of 40 images from page 2\n",
      "Downloading 39 of 40 images from page 2\n",
      "Downloading 40 of 40 images from page 2\n"
     ]
    }
   ],
   "source": [
    "page=2\n",
    "for index, link in enumerate(urls):\n",
    "    print(\"Downloading {0} of {1} images from page 2\".format(index+1, len(urls)))\n",
    "    \n",
    "    response = requests.get(link)\n",
    "    with open ('Shirts_flip/img_{0}{1}.jpg'.format(index,page),\"wb\") as file:\n",
    "        file.write(response.content)"
   ]
  },
  {
   "cell_type": "markdown",
   "metadata": {},
   "source": [
    "# page3"
   ]
  },
  {
   "cell_type": "code",
   "execution_count": 50,
   "metadata": {},
   "outputs": [],
   "source": [
    "next_page = driver.find_element_by_xpath(\"//a[@class='_3fVaIS']\").click()"
   ]
  },
  {
   "cell_type": "code",
   "execution_count": 51,
   "metadata": {},
   "outputs": [],
   "source": [
    "images=driver.find_elements_by_xpath(\"//img[@class='_3togXc']\")"
   ]
  },
  {
   "cell_type": "code",
   "execution_count": 52,
   "metadata": {},
   "outputs": [
    {
     "name": "stdout",
     "output_type": "stream",
     "text": [
      "https://rukminim1.flixcart.com/image/329/395/k70spzk0/shirt/n/u/3/m-hlsh009039-highlander-original-imafpchnhgh37vy6.jpeg?q=50\n",
      "https://rukminim1.flixcart.com/image/329/395/k70spzk0/shirt/p/p/e/m-hlsh008853-highlander-original-imafpchqpvfrdmvc.jpeg?q=50\n",
      "https://rukminim1.flixcart.com/image/329/395/k70spzk0/shirt/d/m/4/m-hlsh009122-highlander-original-imafpchnybvbhjd7.jpeg?q=50\n",
      "https://rukminim1.flixcart.com/image/329/395/k8by93k0/shirt/n/4/w/l-cm-st165-cobio-man-original-imafqdcyjcxfbcxd.jpeg?q=50\n",
      "https://rukminim1.flixcart.com/image/329/395/jz05rww0/shirt/7/m/s/s-marroon-sst-try-this-original-imafghg2xpkgbhtv.jpeg?q=50\n",
      "https://rukminim1.flixcart.com/image/329/395/jw0zr0w0/shirt/g/j/m/2xl-rs18mnc-r-rope-original-imaf733ewvhwjjdr.jpeg?q=50\n",
      "https://rukminim1.flixcart.com/image/329/395/k7c88sw0/shirt/d/h/w/l-hlsh011440-highlander-original-imafphpujebchuyb.jpeg?q=50\n",
      "https://rukminim1.flixcart.com/image/329/395/jjolt3k0/shirt/j/f/m/l-c301-purple-dennis-lingo-original-imaf7588n2hjvzjq.jpeg?q=50\n",
      "https://rukminim1.flixcart.com/image/329/395/jnqcpzk0/shirt/z/g/2/s-sshh-chi-8-jai-textiles-original-imafa9g9zzgvrfxx.jpeg?q=50\n",
      "https://rukminim1.flixcart.com/image/329/395/k70spzk0/shirt/5/p/s/m-hlsh009565-highlander-original-imafpchpx5z5rxnd.jpeg?q=50\n",
      "https://rukminim1.flixcart.com/image/329/395/jybvafk0/shirt/z/y/w/l-jk156-try-this-original-imafghg7pyrugr3v.jpeg?q=50\n",
      "https://rukminim1.flixcart.com/image/329/395/k70spzk0/shirt/y/g/p/m-hlsh009198-highlander-original-imafpchn3rsjgufb.jpeg?q=50\n",
      "https://rukminim1.flixcart.com/image/329/395/k6l2vm80/shirt/u/j/f/xl-373-jolly-creation-original-imafpyqjzyzd63zg.jpeg?q=50\n",
      "https://rukminim1.flixcart.com/image/329/395/k70spzk0/shirt/7/y/a/m-hlsh009166-highlander-original-imafpchnehagygez.jpeg?q=50\n",
      "https://rukminim1.flixcart.com/image/329/395/jd94h3k0/shirt/b/v/x/m-hlsh009384-teal-black-highlander-original-imaeza2cwa3fxddt.jpeg?q=50\n",
      "https://rukminim1.flixcart.com/image/329/395/k01b8280/shirt/9/h/f/xxl-china-half-black-base-41-original-imafjvxggjfgzhqv.jpeg?q=50\n",
      "https://rukminim1.flixcart.com/image/329/395/jybvafk0/shirt/z/y/w/l-jk156-try-this-original-imafghg7pyrugr3v.jpeg?q=50\n",
      "https://rukminim1.flixcart.com/image/329/395/k4u7i4w0/shirt/w/t/z/s-half-army-dp-green-tap-in-original-imafnnmrbyfts73t.jpeg?q=50\n",
      "https://rukminim1.flixcart.com/image/329/395/jnqcpzk0/shirt/b/b/h/xxl-sshh-chi-6-jai-textiles-original-imafa9g9cr7axpps.jpeg?q=50\n",
      "https://rukminim1.flixcart.com/image/329/395/jy3anbk0/shirt/e/z/y/l-c301-black-dennis-lingo-original-imafgeu6xveg8v9y.jpeg?q=50\n",
      "https://rukminim1.flixcart.com/image/329/395/kc3p30w0/shirt/k/l/m/42-assfwmof092085-allen-solly-original-imaftarp4353shaz.jpeg?q=50\n",
      "https://rukminim1.flixcart.com/image/329/395/k70spzk0/shirt/5/a/3/m-hlsh010282-highlander-original-imafpchwgwhpezyf.jpeg?q=50\n",
      "https://rukminim1.flixcart.com/image/329/395/jyug0i80/shirt/d/6/j/xxl-cc201-b-green-dennis-lingo-original-imafjyyxh4euzguy.jpeg?q=50\n",
      "https://rukminim1.flixcart.com/image/329/395/jtx9evk0/shirt/t/j/h/xl-c301-white-dennis-lingo-original-imaff64hfadhsgfa.jpeg?q=50\n",
      "https://rukminim1.flixcart.com/image/329/395/jqtt2fk0/shirt/w/e/q/5xl-499-grn-5th-anfold-original-imafcr6yegkzhtuy.jpeg?q=50\n",
      "https://rukminim1.flixcart.com/image/329/395/k0e66q80/shirt/8/g/g/m-m-ss19-csh-005e-metronaut-original-imafk6y6qx6c9mhh.jpeg?q=50\n",
      "https://rukminim1.flixcart.com/image/329/395/k3orqfk0/shirt/t/j/g/s-mens-casual-shirt-sky-indoprimo-original-imafmrhh7e9qm3nx.jpeg?q=50\n",
      "https://rukminim1.flixcart.com/image/329/395/shirt/9/x/j/hlsh009053-dark-blue-dark-blue-highlander-m-original-imaephsvh6unszpq.jpeg?q=50\n",
      "https://rukminim1.flixcart.com/image/329/395/jz8qf0w0/shirt/k/s/d/m-cotton-casual-fancy-shirt-m10-indoprimo-original-imafjacuvt5ykvjq.jpeg?q=50\n",
      "https://rukminim1.flixcart.com/image/329/395/juu4jgw0/shirt/c/a/h/m-m-ss19-c-fsh-001e-metronaut-original-imaffvuqnyk7bzhr.jpeg?q=50\n",
      "https://rukminim1.flixcart.com/image/329/395/jzzvs7k0/shirt/z/f/r/m-china-half-lb-base-41-original-imafjvxhzsrp4r9j.jpeg?q=50\n",
      "https://rukminim1.flixcart.com/image/329/395/jlsc58w0/shirt/x/s/t/44-sh705-black-36-zombom-original-imaf8s22kjkrfwnk.jpeg?q=50\n",
      "https://rukminim1.flixcart.com/image/329/395/k7nnrm80/shirt/e/n/u/xl-sksh-bb110-xl-ma-fubar-original-imafpuajnhvkdst3.jpeg?q=50\n",
      "https://rukminim1.flixcart.com/image/329/395/jnkmykw0/shirt/t/n/g/l-gg370-gespo-original-imafa8bzwxgfnduq.jpeg?q=50\n",
      "https://rukminim1.flixcart.com/image/329/395/k55n0y80/shirt/h/v/x/s-sh009405-highlander-original-imafnwnh6wvwsn9z.jpeg?q=50\n",
      "https://rukminim1.flixcart.com/image/329/395/k70spzk0/shirt/9/r/x/m-hlsh010296-highlander-original-imafpchwdrjezfdm.jpeg?q=50\n",
      "https://rukminim1.flixcart.com/image/329/395/jzfvma80/shirt/4/j/a/xl-xtl29-xtl-original-imafjfh8z7yph8pn.jpeg?q=50\n",
      "https://rukminim1.flixcart.com/image/329/395/k70spzk0/shirt/v/g/5/m-hlsh010256-highlander-original-imafpchwhuyzg4c6.jpeg?q=50\n",
      "https://rukminim1.flixcart.com/image/329/395/k70spzk0/shirt/n/q/z/m-hlsh009655-highlander-original-imafpchnexygchzn.jpeg?q=50\n",
      "https://rukminim1.flixcart.com/image/329/395/kavefm80/shirt/e/p/d/m-m-ss19-csh-005cc-metronaut-original-imafscr7r8jqmv7e.jpeg?q=50\n"
     ]
    }
   ],
   "source": [
    "urls=[]\n",
    "for image in images:\n",
    "    source = image.get_attribute('src')\n",
    "    urls.append(source)\n",
    "    print(source)"
   ]
  },
  {
   "cell_type": "code",
   "execution_count": 53,
   "metadata": {},
   "outputs": [
    {
     "name": "stdout",
     "output_type": "stream",
     "text": [
      "Downloading 1 of 40 images from page 3\n",
      "Downloading 2 of 40 images from page 3\n",
      "Downloading 3 of 40 images from page 3\n",
      "Downloading 4 of 40 images from page 3\n",
      "Downloading 5 of 40 images from page 3\n",
      "Downloading 6 of 40 images from page 3\n",
      "Downloading 7 of 40 images from page 3\n",
      "Downloading 8 of 40 images from page 3\n",
      "Downloading 9 of 40 images from page 3\n",
      "Downloading 10 of 40 images from page 3\n",
      "Downloading 11 of 40 images from page 3\n",
      "Downloading 12 of 40 images from page 3\n",
      "Downloading 13 of 40 images from page 3\n",
      "Downloading 14 of 40 images from page 3\n",
      "Downloading 15 of 40 images from page 3\n",
      "Downloading 16 of 40 images from page 3\n",
      "Downloading 17 of 40 images from page 3\n",
      "Downloading 18 of 40 images from page 3\n",
      "Downloading 19 of 40 images from page 3\n",
      "Downloading 20 of 40 images from page 3\n",
      "Downloading 21 of 40 images from page 3\n",
      "Downloading 22 of 40 images from page 3\n",
      "Downloading 23 of 40 images from page 3\n",
      "Downloading 24 of 40 images from page 3\n",
      "Downloading 25 of 40 images from page 3\n",
      "Downloading 26 of 40 images from page 3\n",
      "Downloading 27 of 40 images from page 3\n",
      "Downloading 28 of 40 images from page 3\n",
      "Downloading 29 of 40 images from page 3\n",
      "Downloading 30 of 40 images from page 3\n",
      "Downloading 31 of 40 images from page 3\n",
      "Downloading 32 of 40 images from page 3\n",
      "Downloading 33 of 40 images from page 3\n",
      "Downloading 34 of 40 images from page 3\n",
      "Downloading 35 of 40 images from page 3\n",
      "Downloading 36 of 40 images from page 3\n",
      "Downloading 37 of 40 images from page 3\n",
      "Downloading 38 of 40 images from page 3\n",
      "Downloading 39 of 40 images from page 3\n",
      "Downloading 40 of 40 images from page 3\n"
     ]
    }
   ],
   "source": [
    "page=3\n",
    "for index, link in enumerate(urls):\n",
    "    print(\"Downloading {0} of {1} images from page 3\".format(index+1, len(urls)))\n",
    "    \n",
    "    response = requests.get(link)\n",
    "    with open ('Shirts_flip/img_{0}{1}.jpg'.format(index,page),\"wb\") as file:\n",
    "        file.write(response.content)"
   ]
  },
  {
   "cell_type": "code",
   "execution_count": null,
   "metadata": {},
   "outputs": [],
   "source": []
  }
 ],
 "metadata": {
  "kernelspec": {
   "display_name": "Python 3",
   "language": "python",
   "name": "python3"
  },
  "language_info": {
   "codemirror_mode": {
    "name": "ipython",
    "version": 3
   },
   "file_extension": ".py",
   "mimetype": "text/x-python",
   "name": "python",
   "nbconvert_exporter": "python",
   "pygments_lexer": "ipython3",
   "version": "3.7.6"
  }
 },
 "nbformat": 4,
 "nbformat_minor": 4
}
