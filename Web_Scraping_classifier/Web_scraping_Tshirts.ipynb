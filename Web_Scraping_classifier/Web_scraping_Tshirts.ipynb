{
 "cells": [
  {
   "cell_type": "code",
   "execution_count": 23,
   "metadata": {},
   "outputs": [],
   "source": [
    "from selenium import webdriver\n",
    "import os"
   ]
  },
  {
   "cell_type": "code",
   "execution_count": 24,
   "metadata": {},
   "outputs": [],
   "source": [
    "driver=webdriver.Chrome(executable_path='C:/Users/AKSHAY/anaconda3/Lib/site-packages/selenium/chromedriver_win32/chromedriver.exe')"
   ]
  },
  {
   "cell_type": "code",
   "execution_count": 25,
   "metadata": {},
   "outputs": [],
   "source": [
    "my_page = driver.get(\"https://www.flipkart.com/search?q=tshirts+men&sid=clo%2Cash%2Cank%2Cedy&as=on&as-show=on&otracker=AS_QueryStore_OrganicAutoSuggest_1_7_na_na_na&otracker1=AS_QueryStore_OrganicAutoSuggest_1_7_na_na_na&as-pos=1&as-type=RECENT&suggestionId=tshirts+men%7CMen%27s+T-shirts&requestId=cbe59921-ce92-4fa9-9973-e05ee0f0f70f&as-searchtext=tshirts\")"
   ]
  },
  {
   "cell_type": "code",
   "execution_count": 26,
   "metadata": {},
   "outputs": [],
   "source": [
    "def make_directory(dirname):\n",
    "    current_path = os.getcwd()\n",
    "    path=os.path.join(current_path, dirname)\n",
    "    if not os.path.exists(path):\n",
    "        os.makedirs(path)"
   ]
  },
  {
   "cell_type": "code",
   "execution_count": 27,
   "metadata": {},
   "outputs": [],
   "source": [
    "make_directory(\"Tshirts_flip\")"
   ]
  },
  {
   "cell_type": "code",
   "execution_count": 28,
   "metadata": {},
   "outputs": [],
   "source": [
    "images=driver.find_elements_by_xpath(\"//img[@class='_3togXc']\")"
   ]
  },
  {
   "cell_type": "code",
   "execution_count": 29,
   "metadata": {},
   "outputs": [
    {
     "name": "stdout",
     "output_type": "stream",
     "text": [
      "40\n"
     ]
    }
   ],
   "source": [
    "print(len(images))"
   ]
  },
  {
   "cell_type": "code",
   "execution_count": 30,
   "metadata": {},
   "outputs": [
    {
     "name": "stdout",
     "output_type": "stream",
     "text": [
      "https://rukminim1.flixcart.com/image/329/395/k3670cw0/t-shirt/e/n/d/m-rlc-attitud-ronit-leading-clothing-original-imafmd4zfpwztghh.jpeg?q=50\n",
      "https://rukminim1.flixcart.com/image/329/395/k1jlyfk0/t-shirt/g/z/v/m-ng-thood-strp-mstrd-mrn-blk-ronit-leading-clothing-original-imafkhgp3tz46te2.jpeg?q=50\n",
      "https://rukminim1.flixcart.com/image/329/395/jm3ro280/t-shirt/9/h/f/m-style-tshirt-try-this-original-imaf8zxukgz3cjhq.jpeg?q=50\n",
      "https://rukminim1.flixcart.com/image/329/395/jp780i80/t-shirt/u/8/t/s-tnvhdfulabstract1-tripr-original-imafbdarnwhfh7uu.jpeg?q=50\n",
      "https://rukminim1.flixcart.com/image/329/395/k7531jk0/t-shirt/z/c/a/s-rh-roundnck-x-hlfslv-blk-org-skin-rockhard-original-imafpfvkgtxeuz77.jpeg?q=50\n",
      "https://rukminim1.flixcart.com/image/329/395/jtn9bww0/t-shirt/5/g/g/m-hm-1001-black-red-helmont-original-imafdfvvr8hqdu65.jpeg?q=50\n",
      "https://rukminim1.flixcart.com/image/329/395/jpodaq80/t-shirt/m/m/x/m-am-1021m-aelo-original-imafbvhm5yzhuzgs.jpeg?q=50\n",
      "https://rukminim1.flixcart.com/image/329/395/k4bms280/t-shirt/5/b/t/m-11-v-neck-try-this-original-imaf969m4due9wbm.jpeg?q=50\n",
      "https://rukminim1.flixcart.com/image/329/395/k30h8y80/t-shirt/u/z/s/s-shp275282-shapphr-original-imafjvg4nngzwrfw.jpeg?q=50\n",
      "https://rukminim1.flixcart.com/image/329/395/k4bms280/t-shirt/k/f/j/m-bathteck-try-this-original-imafgt57nvhnry4r.jpeg?q=50\n",
      "https://rukminim1.flixcart.com/image/329/395/kb6tyfk0/t-shirt/j/m/g/4xl-tbl-rdhdful-just-tripr-original-imafsh9ekxf5qzvm.jpeg?q=50\n",
      "https://rukminim1.flixcart.com/image/329/395/kavefm80/t-shirt/j/h/h/s-bul-bsp018-013-006-bullmer-original-imafsbwxbnmnuxdr.jpeg?q=50\n",
      "https://rukminim1.flixcart.com/image/329/395/kavefm80/t-shirt/d/h/9/m-bul-bsp015-012-021-bullmer-original-imafsbwxjfeztfqv.jpeg?q=50\n",
      "https://rukminim1.flixcart.com/image/329/395/jyoq93k0/t-shirt/c/d/j/m-111-olive-katso-original-imafgvcbkfjzaayn.jpeg?q=50\n",
      "https://rukminim1.flixcart.com/image/329/395/kavefm80/t-shirt/y/6/h/s-bul-bsp015-013-017-bullmer-original-imafsc47hdfcea5t.jpeg?q=50\n",
      "https://rukminim1.flixcart.com/image/329/395/k40798w0/t-shirt/m/j/h/xxl-4070-xxl-fastcolors-original-imafnyyh8cvzbyep.jpeg?q=50\n",
      "https://rukminim1.flixcart.com/image/329/395/jz05rww0/shirt/7/m/s/s-marroon-sst-try-this-original-imafghg2xpkgbhtv.jpeg?q=50\n",
      "https://rukminim1.flixcart.com/image/329/395/jw0zr0w0/t-shirt/g/u/q/s-daredevil-party-wear-wrath-original-imafgsggwmdabfx4.jpeg?q=50\n",
      "https://rukminim1.flixcart.com/image/329/395/kbxzbm80/t-shirt/m/z/y/m-4070-4071-fastcolors-original-imaft67exwhayhhe.jpeg?q=50\n",
      "https://rukminim1.flixcart.com/image/329/395/k3670cw0/t-shirt/y/y/c/s-rlc-attitud-ronit-leading-clothing-original-imafmd4zekuwrsfb.jpeg?q=50\n",
      "https://rukminim1.flixcart.com/image/329/395/k868how0/t-shirt/g/e/f/xl-4058-fastcolors-original-imafq9fnzbyr723w.jpeg?q=50\n",
      "https://rukminim1.flixcart.com/image/329/395/k4bms280/t-shirt/x/4/g/s-died-yarn-tshirt-try-this-original-imaf8ytcnvzmf8t5.jpeg?q=50\n",
      "https://rukminim1.flixcart.com/image/329/395/k7qinbk0/t-shirt/r/g/r/s-rt-slevattitude-org-nvy-ronit-s-trend-original-imafpwnyhqhxf8he.jpeg?q=50\n",
      "https://rukminim1.flixcart.com/image/329/395/k3670cw0/t-shirt/z/u/g/l-rlc-attitud-ronit-leading-clothing-original-imafmd4z39ss4utz.jpeg?q=50\n",
      "https://rukminim1.flixcart.com/image/329/395/jza5uvk0/t-shirt/s/n/n/l-striped-try-this-original-imafj8mfhxhmfxtm.jpeg?q=50\n",
      "https://rukminim1.flixcart.com/image/329/395/k4bms280/t-shirt/z/z/n/xl-092-henley-try-this-original-imafghb9gpxgaarg.jpeg?q=50\n",
      "https://rukminim1.flixcart.com/image/329/395/k4vmxzk0/t-shirt/k/x/m/xl-16-panel-mustard-uzee-original-imafnzyyxzwdcn9m.jpeg?q=50\n",
      "https://rukminim1.flixcart.com/image/329/395/k7dnonk0/t-shirt/x/h/a/xl-nyc-maroon-smartees-original-imafphzydf7pkgrc.jpeg?q=50\n",
      "https://rukminim1.flixcart.com/image/329/395/jxhv1jk0/t-shirt/n/d/f/xl-rzl-rnd-full-patti-blk-rezalia-original-imafhy6jbygfeh5t.jpeg?q=50\n",
      "https://rukminim1.flixcart.com/image/329/395/k41mp3k0/t-shirt/k/s/d/xl-rlc-ngpc-blue-ronit-leading-clothing-original-imafnfmsaezgsugb.jpeg?q=50\n",
      "https://rukminim1.flixcart.com/image/329/395/jlgwmfk0/t-shirt/g/w/9/l-blubrdr01-diwazzo-original-imaf8h3gzhgnuw7h.jpeg?q=50\n",
      "https://rukminim1.flixcart.com/image/329/395/k4bms280/t-shirt/2/v/s/l-c11-try-this-original-imafghgrcwdqfjes.jpeg?q=50\n",
      "https://rukminim1.flixcart.com/image/329/395/k4bms280/t-shirt/q/r/e/l-togo-try-this-original-imafghayjeh5xrb7.jpeg?q=50\n",
      "https://rukminim1.flixcart.com/image/329/395/k1jlyfk0/t-shirt/2/g/3/xl-ng-thood-strp-org-wht-blk-ronit-leading-clothing-original-imafkhgpdykhyc4a.jpeg?q=50\n",
      "https://rukminim1.flixcart.com/image/329/395/jz05rww0/t-shirt/s/t/p/xl-blue-chex-try-this-original-imafj3eysyvftt7f.jpeg?q=50\n",
      "https://rukminim1.flixcart.com/image/329/395/kbxzbm80/t-shirt/u/y/n/l-4131-4132-fastcolors-original-imaft67ezxatnpxz.jpeg?q=50\n",
      "https://rukminim1.flixcart.com/image/329/395/k2z1t3k0/t-shirt/h/h/t/xl-shp275282-shapphr-original-imafjvg4jgembdsj.jpeg?q=50\n",
      "https://rukminim1.flixcart.com/image/329/395/kbdz5ow0/t-shirt/q/x/p/s-cy-101-white-country-yard-original-imafsr4fysymk2an.jpeg?q=50\n",
      "https://rukminim1.flixcart.com/image/329/395/j4sronk0/t-shirt/x/h/c/s-bcsa0002-black-black-collection-original-imaevhsacqrvrkzs.jpeg?q=50\n",
      "https://rukminim1.flixcart.com/image/329/395/jxgflow0/t-shirt/m/z/k/xl-tblgychkhdful-d24-tripr-original-imafhuzmagqfgnrq.jpeg?q=50\n"
     ]
    }
   ],
   "source": [
    "urls=[]\n",
    "for image in images:\n",
    "    source = image.get_attribute('src')\n",
    "    urls.append(source)\n",
    "    print(source)"
   ]
  },
  {
   "cell_type": "code",
   "execution_count": 31,
   "metadata": {},
   "outputs": [],
   "source": [
    "import shutil\n",
    "import requests"
   ]
  },
  {
   "cell_type": "code",
   "execution_count": 33,
   "metadata": {},
   "outputs": [
    {
     "name": "stdout",
     "output_type": "stream",
     "text": [
      "Downloading 1 of 40 images from page 1\n",
      "Downloading 2 of 40 images from page 1\n",
      "Downloading 3 of 40 images from page 1\n",
      "Downloading 4 of 40 images from page 1\n",
      "Downloading 5 of 40 images from page 1\n",
      "Downloading 6 of 40 images from page 1\n",
      "Downloading 7 of 40 images from page 1\n",
      "Downloading 8 of 40 images from page 1\n",
      "Downloading 9 of 40 images from page 1\n",
      "Downloading 10 of 40 images from page 1\n",
      "Downloading 11 of 40 images from page 1\n",
      "Downloading 12 of 40 images from page 1\n",
      "Downloading 13 of 40 images from page 1\n",
      "Downloading 14 of 40 images from page 1\n",
      "Downloading 15 of 40 images from page 1\n",
      "Downloading 16 of 40 images from page 1\n",
      "Downloading 17 of 40 images from page 1\n",
      "Downloading 18 of 40 images from page 1\n",
      "Downloading 19 of 40 images from page 1\n",
      "Downloading 20 of 40 images from page 1\n",
      "Downloading 21 of 40 images from page 1\n",
      "Downloading 22 of 40 images from page 1\n",
      "Downloading 23 of 40 images from page 1\n",
      "Downloading 24 of 40 images from page 1\n",
      "Downloading 25 of 40 images from page 1\n",
      "Downloading 26 of 40 images from page 1\n",
      "Downloading 27 of 40 images from page 1\n",
      "Downloading 28 of 40 images from page 1\n",
      "Downloading 29 of 40 images from page 1\n",
      "Downloading 30 of 40 images from page 1\n",
      "Downloading 31 of 40 images from page 1\n",
      "Downloading 32 of 40 images from page 1\n",
      "Downloading 33 of 40 images from page 1\n",
      "Downloading 34 of 40 images from page 1\n",
      "Downloading 35 of 40 images from page 1\n",
      "Downloading 36 of 40 images from page 1\n",
      "Downloading 37 of 40 images from page 1\n",
      "Downloading 38 of 40 images from page 1\n",
      "Downloading 39 of 40 images from page 1\n",
      "Downloading 40 of 40 images from page 1\n"
     ]
    }
   ],
   "source": [
    "page=1\n",
    "for index, link in enumerate(urls):\n",
    "    print(\"Downloading {0} of {1} images from page 1\".format(index+1, len(urls)))\n",
    "    \n",
    "    response = requests.get(link)\n",
    "    with open ('Tshirts_flip/img_{0}{1}.jpg'.format(index,page),\"wb\") as file:\n",
    "        file.write(response.content)"
   ]
  },
  {
   "cell_type": "markdown",
   "metadata": {},
   "source": [
    "# now for Page2"
   ]
  },
  {
   "cell_type": "code",
   "execution_count": 35,
   "metadata": {},
   "outputs": [],
   "source": [
    "next_page = driver.find_element_by_xpath(\"//a[@class='_3fVaIS']\").click()"
   ]
  },
  {
   "cell_type": "code",
   "execution_count": 36,
   "metadata": {},
   "outputs": [],
   "source": [
    "images=driver.find_elements_by_xpath(\"//img[@class='_3togXc']\")"
   ]
  },
  {
   "cell_type": "code",
   "execution_count": 37,
   "metadata": {},
   "outputs": [
    {
     "name": "stdout",
     "output_type": "stream",
     "text": [
      "https://rukminim1.flixcart.com/image/329/395/jxgflow0/t-shirt/m/z/k/xl-tblgychkhdful-d24-tripr-original-imafhuzmagqfgnrq.jpeg?q=50\n",
      "https://rukminim1.flixcart.com/image/329/395/jmgmmq80/sweatshirt/q/v/y/xl-ml-mens-rn-fs-checkd-sweatshirt-white-maniac-original-imaf32dgcmdwvurz.jpeg?q=50\n",
      "https://rukminim1.flixcart.com/image/329/395/jm3ro280/t-shirt/9/h/f/m-style-tshirt-try-this-original-imaf8zxukgz3cjhq.jpeg?q=50\n",
      "https://rukminim1.flixcart.com/image/329/395/jp780i80/t-shirt/u/8/t/s-tnvhdfulabstract1-tripr-original-imafbdarnwhfh7uu.jpeg?q=50\n",
      "https://rukminim1.flixcart.com/image/329/395/k7531jk0/t-shirt/z/c/a/s-rh-roundnck-x-hlfslv-blk-org-skin-rockhard-original-imafpfvkgtxeuz77.jpeg?q=50\n",
      "https://rukminim1.flixcart.com/image/329/395/jtn9bww0/t-shirt/5/g/g/m-hm-1001-black-red-helmont-original-imafdfvvr8hqdu65.jpeg?q=50\n",
      "https://rukminim1.flixcart.com/image/329/395/jpodaq80/t-shirt/m/m/x/m-am-1021m-aelo-original-imafbvhm5yzhuzgs.jpeg?q=50\n",
      "https://rukminim1.flixcart.com/image/329/395/k4bms280/t-shirt/5/b/t/m-11-v-neck-try-this-original-imaf969m4due9wbm.jpeg?q=50\n",
      "https://rukminim1.flixcart.com/image/329/395/k30h8y80/t-shirt/u/z/s/s-shp275282-shapphr-original-imafjvg4nngzwrfw.jpeg?q=50\n",
      "https://rukminim1.flixcart.com/image/329/395/k4bms280/t-shirt/k/f/j/m-bathteck-try-this-original-imafgt57nvhnry4r.jpeg?q=50\n",
      "https://rukminim1.flixcart.com/image/329/395/kb6tyfk0/t-shirt/j/m/g/4xl-tbl-rdhdful-just-tripr-original-imafsh9ekxf5qzvm.jpeg?q=50\n",
      "https://rukminim1.flixcart.com/image/329/395/kavefm80/t-shirt/j/h/h/s-bul-bsp018-013-006-bullmer-original-imafsbwxbnmnuxdr.jpeg?q=50\n",
      "https://rukminim1.flixcart.com/image/329/395/kavefm80/t-shirt/d/h/9/m-bul-bsp015-012-021-bullmer-original-imafsbwxjfeztfqv.jpeg?q=50\n",
      "https://rukminim1.flixcart.com/image/329/395/k55n0y80/t-shirt/9/z/s/xl-t-227-scatchite-original-imafnwk8hqwcctmw.jpeg?q=50\n",
      "https://rukminim1.flixcart.com/image/329/395/kavefm80/t-shirt/y/6/h/s-bul-bsp015-013-017-bullmer-original-imafsc47hdfcea5t.jpeg?q=50\n",
      "https://rukminim1.flixcart.com/image/329/395/k40798w0/t-shirt/m/j/h/xxl-4070-xxl-fastcolors-original-imafnyyh8cvzbyep.jpeg?q=50\n",
      "https://rukminim1.flixcart.com/image/329/395/jz05rww0/shirt/7/m/s/s-marroon-sst-try-this-original-imafghg2xpkgbhtv.jpeg?q=50\n",
      "https://rukminim1.flixcart.com/image/329/395/jw0zr0w0/t-shirt/g/u/q/s-daredevil-party-wear-wrath-original-imafgsggwmdabfx4.jpeg?q=50\n",
      "https://rukminim1.flixcart.com/image/329/395/kbxzbm80/t-shirt/m/z/y/m-4070-4071-fastcolors-original-imaft67exwhayhhe.jpeg?q=50\n",
      "https://rukminim1.flixcart.com/image/329/395/kbgu1e80/t-shirt/x/b/e/l-ss19-2pck-rgln-hs-str-white-black-maniac-original-imafst3gtbfmavbw.jpeg?q=50\n",
      "https://rukminim1.flixcart.com/image/329/395/k868how0/t-shirt/g/e/f/xl-4058-fastcolors-original-imafq9fnzbyr723w.jpeg?q=50\n",
      "https://rukminim1.flixcart.com/image/329/395/k4bms280/t-shirt/x/4/g/s-died-yarn-tshirt-try-this-original-imaf8ytcnvzmf8t5.jpeg?q=50\n",
      "https://rukminim1.flixcart.com/image/329/395/k7qinbk0/t-shirt/r/g/r/s-rt-slevattitude-org-nvy-ronit-s-trend-original-imafpwnyhqhxf8he.jpeg?q=50\n",
      "https://rukminim1.flixcart.com/image/329/395/jyyqc280/t-shirt/k/q/h/s-89own-lewel-original-imafj2fgepw3shwd.jpeg?q=50\n",
      "https://rukminim1.flixcart.com/image/329/395/jza5uvk0/t-shirt/s/n/n/l-striped-try-this-original-imafj8mfhxhmfxtm.jpeg?q=50\n",
      "https://rukminim1.flixcart.com/image/329/395/k4bms280/t-shirt/z/z/n/xl-092-henley-try-this-original-imafghb9gpxgaarg.jpeg?q=50\n",
      "https://rukminim1.flixcart.com/image/329/395/k4vmxzk0/t-shirt/k/x/m/xl-16-panel-mustard-uzee-original-imafnzyyxzwdcn9m.jpeg?q=50\n",
      "https://rukminim1.flixcart.com/image/329/395/k7dnonk0/t-shirt/x/h/a/xl-nyc-maroon-smartees-original-imafphzydf7pkgrc.jpeg?q=50\n",
      "https://rukminim1.flixcart.com/image/329/395/jxhv1jk0/t-shirt/n/d/f/xl-rzl-rnd-full-patti-blk-rezalia-original-imafhy6jbygfeh5t.jpeg?q=50\n",
      "https://rukminim1.flixcart.com/image/329/395/kcauaa80/t-shirt/m/h/q/xxl-4180-4182-fastcolors-original-imaftg7gz57qwqvq.jpeg?q=50\n",
      "https://rukminim1.flixcart.com/image/329/395/jlgwmfk0/t-shirt/g/w/9/l-blubrdr01-diwazzo-original-imaf8h3gzhgnuw7h.jpeg?q=50\n",
      "https://rukminim1.flixcart.com/image/329/395/k4bms280/t-shirt/2/v/s/l-c11-try-this-original-imafghgrcwdqfjes.jpeg?q=50\n",
      "https://rukminim1.flixcart.com/image/329/395/k4bms280/t-shirt/q/r/e/l-togo-try-this-original-imafghayjeh5xrb7.jpeg?q=50\n",
      "https://rukminim1.flixcart.com/image/329/395/k0cqqvk0/t-shirt/7/y/q/m-pm506713-pepe-jeans-original-imafk5tbzax6xuny.jpeg?q=50\n",
      "https://rukminim1.flixcart.com/image/329/395/jz05rww0/t-shirt/s/t/p/xl-blue-chex-try-this-original-imafj3eysyvftt7f.jpeg?q=50\n",
      "https://rukminim1.flixcart.com/image/329/395/kbxzbm80/t-shirt/u/y/n/l-4131-4132-fastcolors-original-imaft67ezxatnpxz.jpeg?q=50\n",
      "https://rukminim1.flixcart.com/image/329/395/k2z1t3k0/t-shirt/h/h/t/xl-shp275282-shapphr-original-imafjvg4jgembdsj.jpeg?q=50\n",
      "https://rukminim1.flixcart.com/image/329/395/kbdz5ow0/t-shirt/q/x/p/s-cy-101-white-country-yard-original-imafsr4fysymk2an.jpeg?q=50\n",
      "https://rukminim1.flixcart.com/image/329/395/j4sronk0/t-shirt/x/h/c/s-bcsa0002-black-black-collection-original-imaevhsacqrvrkzs.jpeg?q=50\n",
      "https://rukminim1.flixcart.com/image/329/395/kcauaa80/t-shirt/8/u/i/s-ss18-hs-drop-tail-blk-gry-strip-maniac-original-imaf3ruzq2cgcafz.jpeg?q=50\n"
     ]
    }
   ],
   "source": [
    "urls=[]\n",
    "for image in images:\n",
    "    source = image.get_attribute('src')\n",
    "    urls.append(source)\n",
    "    print(source)"
   ]
  },
  {
   "cell_type": "code",
   "execution_count": 38,
   "metadata": {},
   "outputs": [
    {
     "name": "stdout",
     "output_type": "stream",
     "text": [
      "Downloading 1 of 40 images from page 2\n",
      "Downloading 2 of 40 images from page 2\n",
      "Downloading 3 of 40 images from page 2\n",
      "Downloading 4 of 40 images from page 2\n",
      "Downloading 5 of 40 images from page 2\n",
      "Downloading 6 of 40 images from page 2\n",
      "Downloading 7 of 40 images from page 2\n",
      "Downloading 8 of 40 images from page 2\n",
      "Downloading 9 of 40 images from page 2\n",
      "Downloading 10 of 40 images from page 2\n",
      "Downloading 11 of 40 images from page 2\n",
      "Downloading 12 of 40 images from page 2\n",
      "Downloading 13 of 40 images from page 2\n",
      "Downloading 14 of 40 images from page 2\n",
      "Downloading 15 of 40 images from page 2\n",
      "Downloading 16 of 40 images from page 2\n",
      "Downloading 17 of 40 images from page 2\n",
      "Downloading 18 of 40 images from page 2\n",
      "Downloading 19 of 40 images from page 2\n",
      "Downloading 20 of 40 images from page 2\n",
      "Downloading 21 of 40 images from page 2\n",
      "Downloading 22 of 40 images from page 2\n",
      "Downloading 23 of 40 images from page 2\n",
      "Downloading 24 of 40 images from page 2\n",
      "Downloading 25 of 40 images from page 2\n",
      "Downloading 26 of 40 images from page 2\n",
      "Downloading 27 of 40 images from page 2\n",
      "Downloading 28 of 40 images from page 2\n",
      "Downloading 29 of 40 images from page 2\n",
      "Downloading 30 of 40 images from page 2\n",
      "Downloading 31 of 40 images from page 2\n",
      "Downloading 32 of 40 images from page 2\n",
      "Downloading 33 of 40 images from page 2\n",
      "Downloading 34 of 40 images from page 2\n",
      "Downloading 35 of 40 images from page 2\n",
      "Downloading 36 of 40 images from page 2\n",
      "Downloading 37 of 40 images from page 2\n",
      "Downloading 38 of 40 images from page 2\n",
      "Downloading 39 of 40 images from page 2\n",
      "Downloading 40 of 40 images from page 2\n"
     ]
    }
   ],
   "source": [
    "page=2\n",
    "for index, link in enumerate(urls):\n",
    "    print(\"Downloading {0} of {1} images from page 2\".format(index+1, len(urls)))\n",
    "    \n",
    "    response = requests.get(link)\n",
    "    with open ('Tshirts_flip/img_{0}{1}.jpg'.format(index,page),\"wb\") as file:\n",
    "        file.write(response.content)"
   ]
  },
  {
   "cell_type": "code",
   "execution_count": 39,
   "metadata": {},
   "outputs": [
    {
     "name": "stdout",
     "output_type": "stream",
     "text": [
      "40\n"
     ]
    }
   ],
   "source": [
    "print(len(images))"
   ]
  },
  {
   "cell_type": "markdown",
   "metadata": {},
   "source": [
    "# for page3"
   ]
  },
  {
   "cell_type": "code",
   "execution_count": 40,
   "metadata": {},
   "outputs": [],
   "source": [
    "next_page = driver.find_element_by_xpath(\"//a[@class='_3fVaIS']\").click()"
   ]
  },
  {
   "cell_type": "code",
   "execution_count": 41,
   "metadata": {},
   "outputs": [],
   "source": [
    "images=driver.find_elements_by_xpath(\"//img[@class='_3togXc']\")"
   ]
  },
  {
   "cell_type": "code",
   "execution_count": 42,
   "metadata": {},
   "outputs": [
    {
     "name": "stdout",
     "output_type": "stream",
     "text": [
      "https://rukminim1.flixcart.com/image/329/395/jtvtz0w0/t-shirt/m/q/f/xl-haif-fine-white-one-nb-nicky-boy-original-imaff2nenyyrgzce.jpeg?q=50\n",
      "https://rukminim1.flixcart.com/image/329/395/jufu4y80/t-shirt/r/b/b/xxl-jrkcollerplain-jorkk-original-imaffkqweypt2gbh.jpeg?q=50\n",
      "https://rukminim1.flixcart.com/image/329/395/jtn9bww0/t-shirt/5/f/c/s-hm-1001-maroon-black-helmont-original-imafdfvvz65ab7vm.jpeg?q=50\n",
      "https://rukminim1.flixcart.com/image/329/395/k3670cw0/t-shirt/e/n/d/m-rlc-attitud-ronit-leading-clothing-original-imafmd4zfpwztghh.jpeg?q=50\n",
      "https://rukminim1.flixcart.com/image/329/395/kavefm80/t-shirt/z/m/a/xl-bul-bsp018-006-002-bullmer-original-imafsbwxpxezytxf.jpeg?q=50\n",
      "https://rukminim1.flixcart.com/image/329/395/k3khevk0/t-shirt/m/6/7/l-aff-1001-mustard-black-adiba-fashion-factory-original-imafmn8a7me5gej4.jpeg?q=50\n",
      "https://rukminim1.flixcart.com/image/329/395/jtn9bww0/t-shirt/y/5/v/xl-kay-s-apparels-003-kay-s-apparels-original-imaf56hhmjq4yybu.jpeg?q=50\n",
      "https://rukminim1.flixcart.com/image/329/395/k6dxocw0/t-shirt/7/z/5/3xl-t16-seven-rocks-original-imafzusqusxzcknz.jpeg?q=50\n",
      "https://rukminim1.flixcart.com/image/329/395/ju1jqfk0/t-shirt/u/z/4/l-men-ss19-rgln-hs-white-ylw-blk-strp-maniac-original-imaff9e8dpqzhwgu.jpeg?q=50\n",
      "https://rukminim1.flixcart.com/image/329/395/k1jlyfk0/t-shirt/g/z/v/m-ng-thood-strp-mstrd-mrn-blk-ronit-leading-clothing-original-imafkhgp3tz46te2.jpeg?q=50\n",
      "https://rukminim1.flixcart.com/image/329/395/kavefm80/t-shirt/y/4/m/s-bul-bsp015-018-010-bullmer-original-imafsbwxaxv8av93.jpeg?q=50\n",
      "https://rukminim1.flixcart.com/image/329/395/jvy4vbk0/t-shirt/w/r/y/m-awt1072b-aelomart-original-imafgqyftygqzy7v.jpeg?q=50\n",
      "https://rukminim1.flixcart.com/image/329/395/kb89ea80/t-shirt/4/g/d/m-465-466-blue-mustard-london-hills-original-imafshrzdyrmvgzb.jpeg?q=50\n",
      "https://rukminim1.flixcart.com/image/329/395/k3670cw0/t-shirt/y/y/c/s-rlc-attitud-ronit-leading-clothing-original-imafmd4zekuwrsfb.jpeg?q=50\n",
      "https://rukminim1.flixcart.com/image/329/395/jw6pifk0/t-shirt/e/v/z/m-61ywn-lewel-original-imafgxd7dfg7uub2.jpeg?q=50\n",
      "https://rukminim1.flixcart.com/image/329/395/jyoq93k0/t-shirt/n/z/m/xl-colorblock-marron-smartees-original-imafgsbaarfzzrwg.jpeg?q=50\n",
      "https://rukminim1.flixcart.com/image/329/395/k62i5jk0/t-shirt/e/t/9/3xl-trdblhdful-orgl-tripr-original-imafzhvtcmpf3zzq.jpeg?q=50\n",
      "https://rukminim1.flixcart.com/image/329/395/jcp4b680/t-shirt/z/6/e/xl-tblgyhoodful-d10-tripr-original-imaffryz5ywgcuvx.jpeg?q=50\n",
      "https://rukminim1.flixcart.com/image/329/395/ju2z6a80/t-shirt/4/d/v/l-1jgtsh-jugular-original-imaff97mftm34gzf.jpeg?q=50\n",
      "https://rukminim1.flixcart.com/image/329/395/k3670cw0/t-shirt/z/u/g/l-rlc-attitud-ronit-leading-clothing-original-imafmd4z39ss4utz.jpeg?q=50\n",
      "https://rukminim1.flixcart.com/image/329/395/k612pow0/t-shirt/m/h/h/xl-t305-as10yldnwh-seven-rocks-original-imafzhynafnxdnsu.jpeg?q=50\n",
      "https://rukminim1.flixcart.com/image/329/395/k3khevk0/t-shirt/m/g/w/l-men-ss19-rgln-hs-red-wht-blk-strp-maniac-original-imafmzdq5uzfgmbh.jpeg?q=50\n",
      "https://rukminim1.flixcart.com/image/329/395/jrxtea80/t-shirt/b/e/e/l-lifeo58-lifeidea-original-imafdmg5ueypzthh.jpeg?q=50\n",
      "https://rukminim1.flixcart.com/image/329/395/k41mp3k0/t-shirt/k/s/d/xl-rlc-ngpc-blue-ronit-leading-clothing-original-imafnfmsaezgsugb.jpeg?q=50\n",
      "https://rukminim1.flixcart.com/image/329/395/katyzrk0/t-shirt/z/y/w/xxl-ds01-try-this-original-imafsb8ju76qqhqw.jpeg?q=50\n",
      "https://rukminim1.flixcart.com/image/329/395/jtuej680/t-shirt/v/f/a/m-haif-hus-white-one-nb-nicky-boy-original-imaff2n2gzku9ha7.jpeg?q=50\n",
      "https://rukminim1.flixcart.com/image/329/395/k40798w0/t-shirt/r/x/a/xxl-4054-xxl-fastcolors-original-imafny3vwstwzyvh.jpeg?q=50\n",
      "https://rukminim1.flixcart.com/image/329/395/kasjjww0/t-shirt/z/h/6/m-fc4173-fastcolors-original-imafsaynwrhgzdxs.jpeg?q=50\n",
      "https://rukminim1.flixcart.com/image/329/395/k3t21zk0/t-shirt/z/r/y/l-am-1272-aelomart-original-imafmuytsfybnmfn.jpeg?q=50\n",
      "https://rukminim1.flixcart.com/image/329/395/k1jlyfk0/t-shirt/2/g/3/xl-ng-thood-strp-org-wht-blk-ronit-leading-clothing-original-imafkhgpdykhyc4a.jpeg?q=50\n",
      "https://rukminim1.flixcart.com/image/329/395/jt4olu80/t-shirt/v/7/v/xl-t-shirt-0068-eg-original-imafejrfpzjkxvkq.jpeg?q=50\n",
      "https://rukminim1.flixcart.com/image/329/395/k0sgl8w0/t-shirt/s/n/s/xxl-am-1210-aelomart-original-imafkhkgqtfhhzhz.jpeg?q=50\n",
      "https://rukminim1.flixcart.com/image/329/395/juu4jgw0/t-shirt/t/f/b/m-jc-19-rn-hs-burgundy-blk-06-jump-cuts-original-imaffvz7mwy2cvn8.jpeg?q=50\n",
      "https://rukminim1.flixcart.com/image/329/395/jxgflow0/t-shirt/m/z/k/xl-tblgychkhdful-d24-tripr-original-imafhuzmagqfgnrq.jpeg?q=50\n",
      "https://rukminim1.flixcart.com/image/329/395/k7ksvww0/t-shirt/x/e/p/l-feathers-black-smartees-original-imafps9knhqkfzgk.jpeg?q=50\n",
      "https://rukminim1.flixcart.com/image/329/395/k4vmxzk0/t-shirt/k/y/e/m-16panel-navy-mhrn-uzee-original-imafnzyqymuh9fbp.jpeg?q=50\n",
      "https://rukminim1.flixcart.com/image/329/395/jufu4y80/t-shirt/d/x/d/xxl-jrkcollerplain-jorkk-original-imaffkqwnbgdzzyu.jpeg?q=50\n",
      "https://rukminim1.flixcart.com/image/329/395/k5vcya80/t-shirt/m/d/2/l-kd286287-kay-dee-original-imafzejhaahtyncr.jpeg?q=50\n",
      "https://rukminim1.flixcart.com/image/329/395/jyyqc280/t-shirt/k/q/h/s-89own-lewel-original-imafj2fgepw3shwd.jpeg?q=50\n",
      "https://rukminim1.flixcart.com/image/329/395/kavefm80/t-shirt/y/4/m/s-bul-bsp015-018-010-bullmer-original-imafsbwxaxv8av93.jpeg?q=50\n"
     ]
    }
   ],
   "source": [
    "urls=[]\n",
    "for image in images:\n",
    "    source = image.get_attribute('src')\n",
    "    urls.append(source)\n",
    "    print(source)"
   ]
  },
  {
   "cell_type": "code",
   "execution_count": 43,
   "metadata": {},
   "outputs": [
    {
     "name": "stdout",
     "output_type": "stream",
     "text": [
      "Downloading 1 of 40 images from page 3\n",
      "Downloading 2 of 40 images from page 3\n",
      "Downloading 3 of 40 images from page 3\n",
      "Downloading 4 of 40 images from page 3\n",
      "Downloading 5 of 40 images from page 3\n",
      "Downloading 6 of 40 images from page 3\n",
      "Downloading 7 of 40 images from page 3\n",
      "Downloading 8 of 40 images from page 3\n",
      "Downloading 9 of 40 images from page 3\n",
      "Downloading 10 of 40 images from page 3\n",
      "Downloading 11 of 40 images from page 3\n",
      "Downloading 12 of 40 images from page 3\n",
      "Downloading 13 of 40 images from page 3\n",
      "Downloading 14 of 40 images from page 3\n",
      "Downloading 15 of 40 images from page 3\n",
      "Downloading 16 of 40 images from page 3\n",
      "Downloading 17 of 40 images from page 3\n",
      "Downloading 18 of 40 images from page 3\n",
      "Downloading 19 of 40 images from page 3\n",
      "Downloading 20 of 40 images from page 3\n",
      "Downloading 21 of 40 images from page 3\n",
      "Downloading 22 of 40 images from page 3\n",
      "Downloading 23 of 40 images from page 3\n",
      "Downloading 24 of 40 images from page 3\n",
      "Downloading 25 of 40 images from page 3\n",
      "Downloading 26 of 40 images from page 3\n",
      "Downloading 27 of 40 images from page 3\n",
      "Downloading 28 of 40 images from page 3\n",
      "Downloading 29 of 40 images from page 3\n",
      "Downloading 30 of 40 images from page 3\n",
      "Downloading 31 of 40 images from page 3\n",
      "Downloading 32 of 40 images from page 3\n",
      "Downloading 33 of 40 images from page 3\n",
      "Downloading 34 of 40 images from page 3\n",
      "Downloading 35 of 40 images from page 3\n",
      "Downloading 36 of 40 images from page 3\n",
      "Downloading 37 of 40 images from page 3\n",
      "Downloading 38 of 40 images from page 3\n",
      "Downloading 39 of 40 images from page 3\n",
      "Downloading 40 of 40 images from page 3\n"
     ]
    }
   ],
   "source": [
    "page=3\n",
    "for index, link in enumerate(urls):\n",
    "    print(\"Downloading {0} of {1} images from page 3\".format(index+1, len(urls)))\n",
    "    \n",
    "    response = requests.get(link)\n",
    "    with open ('Tshirts_flip/img_{0}{1}.jpg'.format(index,page),\"wb\") as file:\n",
    "        file.write(response.content)"
   ]
  },
  {
   "cell_type": "code",
   "execution_count": null,
   "metadata": {},
   "outputs": [],
   "source": []
  }
 ],
 "metadata": {
  "kernelspec": {
   "display_name": "Python 3",
   "language": "python",
   "name": "python3"
  },
  "language_info": {
   "codemirror_mode": {
    "name": "ipython",
    "version": 3
   },
   "file_extension": ".py",
   "mimetype": "text/x-python",
   "name": "python",
   "nbconvert_exporter": "python",
   "pygments_lexer": "ipython3",
   "version": "3.7.6"
  }
 },
 "nbformat": 4,
 "nbformat_minor": 4
}
