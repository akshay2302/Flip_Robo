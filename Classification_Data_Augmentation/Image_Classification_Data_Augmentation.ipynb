{
 "cells": [
  {
   "cell_type": "code",
   "execution_count": 7,
   "metadata": {},
   "outputs": [],
   "source": [
    "from keras.preprocessing.image import ImageDataGenerator, array_to_img, img_to_array, load_img"
   ]
  },
  {
   "cell_type": "code",
   "execution_count": 54,
   "metadata": {},
   "outputs": [
    {
     "name": "stderr",
     "output_type": "stream",
     "text": [
      "C:\\Users\\AKSHAY\\anaconda3\\lib\\site-packages\\ipykernel_launcher.py:8: UserWarning: Update your `MaxPooling2D` call to the Keras 2 API: `MaxPooling2D(pool_size=(2, 2), data_format=\"channels_first\")`\n",
      "  \n",
      "C:\\Users\\AKSHAY\\anaconda3\\lib\\site-packages\\ipykernel_launcher.py:10: UserWarning: Update your `Conv2D` call to the Keras 2 API: `Conv2D(32, (3, 3), data_format=\"channels_first\")`\n",
      "  # Remove the CWD from sys.path while we load stuff.\n",
      "C:\\Users\\AKSHAY\\anaconda3\\lib\\site-packages\\ipykernel_launcher.py:12: UserWarning: Update your `MaxPooling2D` call to the Keras 2 API: `MaxPooling2D(pool_size=(2, 2), data_format=\"channels_first\")`\n",
      "  if sys.path[0] == '':\n",
      "C:\\Users\\AKSHAY\\anaconda3\\lib\\site-packages\\ipykernel_launcher.py:16: UserWarning: Update your `MaxPooling2D` call to the Keras 2 API: `MaxPooling2D(pool_size=(2, 2), data_format=\"channels_first\")`\n",
      "  app.launch_new_instance()\n"
     ]
    },
    {
     "name": "stdout",
     "output_type": "stream",
     "text": [
      "Found 512 images belonging to 3 classes.\n",
      "Found 512 images belonging to 3 classes.\n"
     ]
    }
   ],
   "source": [
    "from keras.models import Sequential\n",
    "from keras.layers import Conv2D, MaxPooling2D\n",
    "from keras.layers import Activation, Dropout, Flatten, Dense\n",
    "\n",
    "model = Sequential()\n",
    "model.add(Conv2D(32, (3, 3), input_shape=(150, 150, 3)))\n",
    "model.add(Activation('relu'))\n",
    "model.add(MaxPooling2D(pool_size=(2, 2), dim_ordering=\"th\"))\n",
    "\n",
    "model.add(Conv2D(32, (3, 3), dim_ordering=\"th\"))\n",
    "model.add(Activation('relu'))\n",
    "model.add(MaxPooling2D(pool_size=(2, 2), dim_ordering=\"th\"))\n",
    "\n",
    "model.add(Conv2D(64, (3, 3)))\n",
    "model.add(Activation('relu'))\n",
    "model.add(MaxPooling2D(pool_size=(2, 2), dim_ordering=\"th\"))\n",
    "\n",
    "# the model so far outputs 3D feature maps (height, width, features)\n",
    "\n",
    "model.add(Flatten())  # this converts our 3D feature maps to 1D feature vectors\n",
    "model.add(Dense(units = 128, activation = 'relu'))\n",
    "model.add(Dropout(0.5))\n",
    "model.add(Dense(units = 3, activation = 'softmax'))\n",
    "\n",
    "model.compile(loss='categorical_crossentropy',\n",
    "              optimizer='adam',\n",
    "              metrics=['accuracy'])\n",
    "\n",
    "batch_size = 16\n",
    "\n",
    "# this is the augmentation configuration we will use for training\n",
    "train_datagen = ImageDataGenerator(\n",
    "        rescale=1./255,\n",
    "        shear_range=0.2,\n",
    "        zoom_range=0.2,\n",
    "        horizontal_flip=True)\n",
    "\n",
    "# this is the augmentation configuration we will use for testing:\n",
    "# only rescaling\n",
    "test_datagen = ImageDataGenerator(rescale=1./255)\n",
    "\n",
    "# this is a generator that will read pictures found in\n",
    "# subfolers of 'data/train', and indefinitely generate\n",
    "# batches of augmented image data\n",
    "train_generator = train_datagen.flow_from_directory(\n",
    "        'C:/Users/AKSHAY/1-Data_science/2-Deep_Learning/3-Web_scraping/images',  # this is the target directory\n",
    "        target_size=(150, 150),  # all images will be resized to 150x150\n",
    "        batch_size=batch_size,\n",
    "        class_mode='categorical')  # since we use binary_crossentropy loss, we need binary labels\n",
    "\n",
    "# this is a similar generator, for validation data\n",
    "validation_generator = test_datagen.flow_from_directory(\n",
    "        'C:/Users/AKSHAY/1-Data_science/2-Deep_Learning/3-Web_scraping/images',\n",
    "        target_size=(150, 150),\n",
    "        batch_size=batch_size,\n",
    "        class_mode='categorical')"
   ]
  },
  {
   "cell_type": "code",
   "execution_count": 60,
   "metadata": {},
   "outputs": [
    {
     "name": "stdout",
     "output_type": "stream",
     "text": [
      "Epoch 1/20\n",
      "125/125 [==============================] - 68s 543ms/step - loss: 0.5944 - accuracy: 0.7510 - val_loss: 0.3384 - val_accuracy: 0.8388\n",
      "Epoch 2/20\n",
      "125/125 [==============================] - 68s 545ms/step - loss: 0.5065 - accuracy: 0.7850 - val_loss: 0.4144 - val_accuracy: 0.8888\n",
      "Epoch 3/20\n",
      "125/125 [==============================] - 68s 542ms/step - loss: 0.4003 - accuracy: 0.8340 - val_loss: 0.3073 - val_accuracy: 0.8838\n",
      "Epoch 4/20\n",
      "125/125 [==============================] - 67s 538ms/step - loss: 0.3965 - accuracy: 0.8385 - val_loss: 0.4127 - val_accuracy: 0.9038\n",
      "Epoch 5/20\n",
      "125/125 [==============================] - 71s 569ms/step - loss: 0.3540 - accuracy: 0.8600 - val_loss: 0.1551 - val_accuracy: 0.8988\n",
      "Epoch 6/20\n",
      "125/125 [==============================] - 72s 578ms/step - loss: 0.3222 - accuracy: 0.8705 - val_loss: 0.2399 - val_accuracy: 0.9112\n",
      "Epoch 7/20\n",
      "125/125 [==============================] - 69s 553ms/step - loss: 0.3091 - accuracy: 0.8770 - val_loss: 0.3704 - val_accuracy: 0.9062\n",
      "Epoch 8/20\n",
      "125/125 [==============================] - 67s 535ms/step - loss: 0.2679 - accuracy: 0.8860 - val_loss: 0.2698 - val_accuracy: 0.9275\n",
      "Epoch 9/20\n",
      "125/125 [==============================] - 67s 533ms/step - loss: 0.3214 - accuracy: 0.8650 - val_loss: 0.0974 - val_accuracy: 0.8975\n",
      "Epoch 10/20\n",
      "125/125 [==============================] - 68s 542ms/step - loss: 0.2572 - accuracy: 0.8915 - val_loss: 0.1542 - val_accuracy: 0.9237\n",
      "Epoch 11/20\n",
      "125/125 [==============================] - 66s 530ms/step - loss: 0.2404 - accuracy: 0.8945 - val_loss: 0.0062 - val_accuracy: 0.9388\n",
      "Epoch 12/20\n",
      "125/125 [==============================] - 68s 542ms/step - loss: 0.2416 - accuracy: 0.9055 - val_loss: 0.0709 - val_accuracy: 0.9262\n",
      "Epoch 13/20\n",
      "125/125 [==============================] - 68s 541ms/step - loss: 0.1820 - accuracy: 0.9235 - val_loss: 0.1168 - val_accuracy: 0.9525\n",
      "Epoch 14/20\n",
      "125/125 [==============================] - 68s 540ms/step - loss: 0.1897 - accuracy: 0.9225 - val_loss: 0.0241 - val_accuracy: 0.9550\n",
      "Epoch 15/20\n",
      "125/125 [==============================] - 67s 538ms/step - loss: 0.1848 - accuracy: 0.9150 - val_loss: 0.0427 - val_accuracy: 0.9700\n",
      "Epoch 16/20\n",
      "125/125 [==============================] - 68s 540ms/step - loss: 0.1647 - accuracy: 0.9295 - val_loss: 0.0216 - val_accuracy: 0.9613\n",
      "Epoch 17/20\n",
      "125/125 [==============================] - 66s 532ms/step - loss: 0.1601 - accuracy: 0.9265 - val_loss: 0.1014 - val_accuracy: 0.9712\n",
      "Epoch 18/20\n",
      "125/125 [==============================] - 67s 537ms/step - loss: 0.1543 - accuracy: 0.9400 - val_loss: 0.1281 - val_accuracy: 0.9775\n",
      "Epoch 19/20\n",
      "125/125 [==============================] - 66s 531ms/step - loss: 0.1446 - accuracy: 0.9420 - val_loss: 0.1380 - val_accuracy: 0.9762\n",
      "Epoch 20/20\n",
      "125/125 [==============================] - 67s 536ms/step - loss: 0.1759 - accuracy: 0.9305 - val_loss: 0.1417 - val_accuracy: 0.9650\n",
      "Saved model to disk\n"
     ]
    }
   ],
   "source": [
    "model.fit_generator(\n",
    "        train_generator,\n",
    "        steps_per_epoch=2000 // batch_size,\n",
    "        epochs=20,\n",
    "        validation_data=validation_generator,\n",
    "        validation_steps=800 // batch_size)\n",
    "model.save('first_try.h5')\n",
    "print(\"Saved model to disk\")"
   ]
  },
  {
   "cell_type": "code",
   "execution_count": 61,
   "metadata": {},
   "outputs": [
    {
     "name": "stdout",
     "output_type": "stream",
     "text": [
      "Model: \"sequential_12\"\n",
      "_________________________________________________________________\n",
      "Layer (type)                 Output Shape              Param #   \n",
      "=================================================================\n",
      "conv2d_27 (Conv2D)           (None, 148, 148, 32)      896       \n",
      "_________________________________________________________________\n",
      "activation_33 (Activation)   (None, 148, 148, 32)      0         \n",
      "_________________________________________________________________\n",
      "max_pooling2d_24 (MaxPooling (None, 148, 74, 16)       0         \n",
      "_________________________________________________________________\n",
      "conv2d_28 (Conv2D)           (None, 32, 72, 14)        42656     \n",
      "_________________________________________________________________\n",
      "activation_34 (Activation)   (None, 32, 72, 14)        0         \n",
      "_________________________________________________________________\n",
      "max_pooling2d_25 (MaxPooling (None, 32, 36, 7)         0         \n",
      "_________________________________________________________________\n",
      "conv2d_29 (Conv2D)           (None, 30, 34, 64)        4096      \n",
      "_________________________________________________________________\n",
      "activation_35 (Activation)   (None, 30, 34, 64)        0         \n",
      "_________________________________________________________________\n",
      "max_pooling2d_26 (MaxPooling (None, 30, 17, 32)        0         \n",
      "_________________________________________________________________\n",
      "flatten_7 (Flatten)          (None, 16320)             0         \n",
      "_________________________________________________________________\n",
      "dense_15 (Dense)             (None, 128)               2089088   \n",
      "_________________________________________________________________\n",
      "dropout_7 (Dropout)          (None, 128)               0         \n",
      "_________________________________________________________________\n",
      "dense_16 (Dense)             (None, 3)                 387       \n",
      "=================================================================\n",
      "Total params: 2,137,123\n",
      "Trainable params: 2,137,123\n",
      "Non-trainable params: 0\n",
      "_________________________________________________________________\n",
      "None\n"
     ]
    }
   ],
   "source": [
    "print(model.summary())"
   ]
  },
  {
   "cell_type": "code",
   "execution_count": 62,
   "metadata": {},
   "outputs": [
    {
     "data": {
      "text/plain": [
       "<keras.callbacks.callbacks.History at 0x2fda36a708>"
      ]
     },
     "execution_count": 62,
     "metadata": {},
     "output_type": "execute_result"
    }
   ],
   "source": [
    "model.history"
   ]
  },
  {
   "cell_type": "code",
   "execution_count": 63,
   "metadata": {},
   "outputs": [
    {
     "data": {
      "text/plain": [
       "[<matplotlib.lines.Line2D at 0x2fda381d88>]"
      ]
     },
     "execution_count": 63,
     "metadata": {},
     "output_type": "execute_result"
    },
    {
     "data": {
      "image/png": "[encoded data removed]",
      "text/plain": [
       "<Figure size 432x288 with 1 Axes>"
      ]
     },
     "metadata": {
      "needs_background": "light"
     },
     "output_type": "display_data"
    }
   ],
   "source": [
    "plt.plot(model.history.history['val_loss'], 'r')"
   ]
  },
  {
   "cell_type": "code",
   "execution_count": 64,
   "metadata": {},
   "outputs": [
    {
     "name": "stdout",
     "output_type": "stream",
     "text": [
      "Tshirt\n"
     ]
    }
   ],
   "source": [
    "# Part 3 - Making new predictions\n",
    "\n",
    "import numpy as np\n",
    "from keras.preprocessing import image\n",
    "test_image = image.load_img('C:/Users/AKSHAY/1-Data_science/2-Deep_Learning/3-Web_scraping/images/tshirt1.jpg', target_size = (150, 150))\n",
    "test_image = image.img_to_array(test_image)\n",
    "test_image = np.expand_dims(test_image, axis = 0)\n",
    "result = model.predict(test_image)\n",
    "train_generator.class_indices        \n",
    "if result[0][0] == 1:\n",
    "    prediction = 'saree'\n",
    "    print(prediction)\n",
    "elif result[0][1] == 1:\n",
    "    prediction = 'Tshirt'\n",
    "    print(prediction)\n",
    "else:\n",
    "    prediction = 'Shirt'\n",
    "    print(prediction)"
   ]
  },
  {
   "cell_type": "code",
   "execution_count": null,
   "metadata": {},
   "outputs": [],
   "source": []
  }
 ],
 "metadata": {
  "kernelspec": {
   "display_name": "Python 3",
   "language": "python",
   "name": "python3"
  },
  "language_info": {
   "codemirror_mode": {
    "name": "ipython",
    "version": 3
   },
   "file_extension": ".py",
   "mimetype": "text/x-python",
   "name": "python",
   "nbconvert_exporter": "python",
   "pygments_lexer": "ipython3",
   "version": "3.7.6"
  }
 },
 "nbformat": 4,
 "nbformat_minor": 4
}
