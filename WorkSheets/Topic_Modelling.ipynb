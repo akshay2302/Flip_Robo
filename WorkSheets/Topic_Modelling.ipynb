{
 "cells": [
  {
   "cell_type": "code",
   "execution_count": 19,
   "metadata": {},
   "outputs": [],
   "source": [
    "from sklearn.datasets import fetch_20newsgroups"
   ]
  },
  {
   "cell_type": "code",
   "execution_count": 20,
   "metadata": {},
   "outputs": [],
   "source": [
    "train = fetch_20newsgroups(subset = 'train',shuffle=True)\n",
    "test   = fetch_20newsgroups(subset = 'test',shuffle=True)"
   ]
  },
  {
   "cell_type": "code",
   "execution_count": 21,
   "metadata": {},
   "outputs": [
    {
     "name": "stdout",
     "output_type": "stream",
     "text": [
      "['alt.atheism', 'comp.graphics', 'comp.os.ms-windows.misc', 'comp.sys.ibm.pc.hardware', 'comp.sys.mac.hardware', 'comp.windows.x', 'misc.forsale', 'rec.autos', 'rec.motorcycles', 'rec.sport.baseball', 'rec.sport.hockey', 'sci.crypt', 'sci.electronics', 'sci.med', 'sci.space', 'soc.religion.christian', 'talk.politics.guns', 'talk.politics.mideast', 'talk.politics.misc', 'talk.religion.misc']\n"
     ]
    }
   ],
   "source": [
    "print(list(train.target_names))"
   ]
  },
  {
   "cell_type": "code",
   "execution_count": 22,
   "metadata": {},
   "outputs": [
    {
     "data": {
      "text/plain": [
       "[\"From: lerxst@wam.umd.edu (where's my thing)\\nSubject: WHAT car is this!?\\nNntp-Posting-Host: rac3.wam.umd.edu\\nOrganization: University of Maryland, College Park\\nLines: 15\\n\\n I was wondering if anyone out there could enlighten me on this car I saw\\nthe other day. It was a 2-door sports car, looked to be from the late 60s/\\nearly 70s. It was called a Bricklin. The doors were really small. In addition,\\nthe front bumper was separate from the rest of the body. This is \\nall I know. If anyone can tellme a model name, engine specs, years\\nof production, where this car is made, history, or whatever info you\\nhave on this funky looking car, please e-mail.\\n\\nThanks,\\n- IL\\n   ---- brought to you by your neighborhood Lerxst ----\\n\\n\\n\\n\\n\",\n",
       " \"From: guykuo@carson.u.washington.edu (Guy Kuo)\\nSubject: SI Clock Poll - Final Call\\nSummary: Final call for SI clock reports\\nKeywords: SI,acceleration,clock,upgrade\\nArticle-I.D.: shelley.1qvfo9INNc3s\\nOrganization: University of Washington\\nLines: 11\\nNNTP-Posting-Host: carson.u.washington.edu\\n\\nA fair number of brave souls who upgraded their SI clock oscillator have\\nshared their experiences for this poll. Please send a brief message detailing\\nyour experiences with the procedure. Top speed attained, CPU rated speed,\\nadd on cards and adapters, heat sinks, hour of usage per day, floppy disk\\nfunctionality with 800 and 1.4 m floppies are especially requested.\\n\\nI will be summarizing in the next two days, so please add to the network\\nknowledge base if you have done the clock upgrade and haven't answered this\\npoll. Thanks.\\n\\nGuy Kuo <guykuo@u.washington.edu>\\n\",\n",
       " 'From: twillis@ec.ecn.purdue.edu (Thomas E Willis)\\nSubject: PB questions...\\nOrganization: Purdue University Engineering Computer Network\\nDistribution: usa\\nLines: 36\\n\\nwell folks, my mac plus finally gave up the ghost this weekend after\\nstarting life as a 512k way back in 1985.  sooo, i\\'m in the market for a\\nnew machine a bit sooner than i intended to be...\\n\\ni\\'m looking into picking up a powerbook 160 or maybe 180 and have a bunch\\nof questions that (hopefully) somebody can answer:\\n\\n* does anybody know any dirt on when the next round of powerbook\\nintroductions are expected?  i\\'d heard the 185c was supposed to make an\\nappearence \"this summer\" but haven\\'t heard anymore on it - and since i\\ndon\\'t have access to macleak, i was wondering if anybody out there had\\nmore info...\\n\\n* has anybody heard rumors about price drops to the powerbook line like the\\nones the duo\\'s just went through recently?\\n\\n* what\\'s the impression of the display on the 180?  i could probably swing\\na 180 if i got the 80Mb disk rather than the 120, but i don\\'t really have\\na feel for how much \"better\" the display is (yea, it looks great in the\\nstore, but is that all \"wow\" or is it really that good?).  could i solicit\\nsome opinions of people who use the 160 and 180 day-to-day on if its worth\\ntaking the disk size and money hit to get the active display?  (i realize\\nthis is a real subjective question, but i\\'ve only played around with the\\nmachines in a computer store breifly and figured the opinions of somebody\\nwho actually uses the machine daily might prove helpful).\\n\\n* how well does hellcats perform?  ;)\\n\\nthanks a bunch in advance for any info - if you could email, i\\'ll post a\\nsummary (news reading time is at a premium with finals just around the\\ncorner... :( )\\n--\\nTom Willis  \\\\  twillis@ecn.purdue.edu    \\\\    Purdue Electrical Engineering\\n---------------------------------------------------------------------------\\n\"Convictions are more dangerous enemies of truth than lies.\"  - F. W.\\nNietzsche\\n']"
      ]
     },
     "execution_count": 22,
     "metadata": {},
     "output_type": "execute_result"
    }
   ],
   "source": [
    "ng_train.data[:3]"
   ]
  },
  {
   "cell_type": "code",
   "execution_count": 23,
   "metadata": {},
   "outputs": [
    {
     "name": "stdout",
     "output_type": "stream",
     "text": [
      "(11314,) (11314,)\n"
     ]
    }
   ],
   "source": [
    "print(ng_train.filenames.shape,ng_train.target.shape)"
   ]
  },
  {
   "cell_type": "code",
   "execution_count": 24,
   "metadata": {},
   "outputs": [],
   "source": [
    "'''\n",
    "Loading gensim and nltk libraries\n",
    "'''\n",
    "#!pip install gensim\n",
    "import gensim\n",
    "\n",
    "# Converts into tokens (Alternative to word_tokenize)\n",
    "from gensim.utils import simple_preprocess\n",
    "\n",
    "from gensim.parsing.preprocessing import STOPWORDS\n",
    "\n",
    "from nltk.stem import WordNetLemmatizer, SnowballStemmer\n",
    "#from nltk.stem import *\n",
    "import numpy as np\n",
    "np.random.seed(400)"
   ]
  },
  {
   "cell_type": "code",
   "execution_count": 25,
   "metadata": {},
   "outputs": [
    {
     "data": {
      "text/plain": [
       "'run'"
      ]
     },
     "execution_count": 25,
     "metadata": {},
     "output_type": "execute_result"
    }
   ],
   "source": [
    "WordNetLemmatizer().lemmatize('runs')"
   ]
  },
  {
   "cell_type": "code",
   "execution_count": 26,
   "metadata": {},
   "outputs": [
    {
     "data": {
      "text/html": [
       "<div>\n",
       "<style scoped>\n",
       "    .dataframe tbody tr th:only-of-type {\n",
       "        vertical-align: middle;\n",
       "    }\n",
       "\n",
       "    .dataframe tbody tr th {\n",
       "        vertical-align: top;\n",
       "    }\n",
       "\n",
       "    .dataframe thead th {\n",
       "        text-align: right;\n",
       "    }\n",
       "</style>\n",
       "<table border=\"1\" class=\"dataframe\">\n",
       "  <thead>\n",
       "    <tr style=\"text-align: right;\">\n",
       "      <th></th>\n",
       "      <th>Original Words</th>\n",
       "      <th>Lemma</th>\n",
       "    </tr>\n",
       "  </thead>\n",
       "  <tbody>\n",
       "    <tr>\n",
       "      <th>0</th>\n",
       "      <td>caresses</td>\n",
       "      <td>caress</td>\n",
       "    </tr>\n",
       "    <tr>\n",
       "      <th>1</th>\n",
       "      <td>flies</td>\n",
       "      <td>fly</td>\n",
       "    </tr>\n",
       "    <tr>\n",
       "      <th>2</th>\n",
       "      <td>dies</td>\n",
       "      <td>die</td>\n",
       "    </tr>\n",
       "    <tr>\n",
       "      <th>3</th>\n",
       "      <td>mules</td>\n",
       "      <td>mules</td>\n",
       "    </tr>\n",
       "    <tr>\n",
       "      <th>4</th>\n",
       "      <td>denied</td>\n",
       "      <td>deny</td>\n",
       "    </tr>\n",
       "    <tr>\n",
       "      <th>5</th>\n",
       "      <td>died</td>\n",
       "      <td>die</td>\n",
       "    </tr>\n",
       "    <tr>\n",
       "      <th>6</th>\n",
       "      <td>agreed</td>\n",
       "      <td>agree</td>\n",
       "    </tr>\n",
       "    <tr>\n",
       "      <th>7</th>\n",
       "      <td>owned</td>\n",
       "      <td>own</td>\n",
       "    </tr>\n",
       "    <tr>\n",
       "      <th>8</th>\n",
       "      <td>humbled</td>\n",
       "      <td>humble</td>\n",
       "    </tr>\n",
       "    <tr>\n",
       "      <th>9</th>\n",
       "      <td>sized</td>\n",
       "      <td>size</td>\n",
       "    </tr>\n",
       "    <tr>\n",
       "      <th>10</th>\n",
       "      <td>meeting</td>\n",
       "      <td>meet</td>\n",
       "    </tr>\n",
       "    <tr>\n",
       "      <th>11</th>\n",
       "      <td>stating</td>\n",
       "      <td>state</td>\n",
       "    </tr>\n",
       "    <tr>\n",
       "      <th>12</th>\n",
       "      <td>siezing</td>\n",
       "      <td>siezing</td>\n",
       "    </tr>\n",
       "    <tr>\n",
       "      <th>13</th>\n",
       "      <td>itemization</td>\n",
       "      <td>itemization</td>\n",
       "    </tr>\n",
       "    <tr>\n",
       "      <th>14</th>\n",
       "      <td>sensational</td>\n",
       "      <td>sensational</td>\n",
       "    </tr>\n",
       "    <tr>\n",
       "      <th>15</th>\n",
       "      <td>traditional</td>\n",
       "      <td>traditional</td>\n",
       "    </tr>\n",
       "    <tr>\n",
       "      <th>16</th>\n",
       "      <td>reference</td>\n",
       "      <td>reference</td>\n",
       "    </tr>\n",
       "    <tr>\n",
       "      <th>17</th>\n",
       "      <td>colonizer</td>\n",
       "      <td>colonizer</td>\n",
       "    </tr>\n",
       "    <tr>\n",
       "      <th>18</th>\n",
       "      <td>plotted</td>\n",
       "      <td>plot</td>\n",
       "    </tr>\n",
       "  </tbody>\n",
       "</table>\n",
       "</div>"
      ],
      "text/plain": [
       "   Original Words        Lemma\n",
       "0        caresses       caress\n",
       "1           flies          fly\n",
       "2            dies          die\n",
       "3           mules        mules\n",
       "4          denied         deny\n",
       "5            died          die\n",
       "6          agreed        agree\n",
       "7           owned          own\n",
       "8         humbled       humble\n",
       "9           sized         size\n",
       "10        meeting         meet\n",
       "11        stating        state\n",
       "12        siezing      siezing\n",
       "13    itemization  itemization\n",
       "14    sensational  sensational\n",
       "15    traditional  traditional\n",
       "16      reference    reference\n",
       "17      colonizer    colonizer\n",
       "18        plotted         plot"
      ]
     },
     "execution_count": 26,
     "metadata": {},
     "output_type": "execute_result"
    }
   ],
   "source": [
    "#testing the stemming part before preprocessing. This should be changing any plural into singular word\n",
    "import pandas as pd\n",
    "stemmer = SnowballStemmer(\"english\")\n",
    "original_words=['caresses', 'flies', 'dies', 'mules', 'denied','died', 'agreed', 'owned', \n",
    "           'humbled', 'sized','meeting', 'stating', 'siezing', 'itemization','sensational', \n",
    "           'traditional', 'reference', 'colonizer','plotted']\n",
    "\n",
    "singles= [WordNetLemmatizer().lemmatize(plural,pos='v') for plural in original_words]\n",
    "\n",
    "pd.DataFrame(data={'Original Words':original_words, 'Lemma':singles})"
   ]
  },
  {
   "cell_type": "code",
   "execution_count": 27,
   "metadata": {},
   "outputs": [],
   "source": [
    "# writing function for the entire dataset\n",
    "def lemmatize_stemming(text):\n",
    "    return stemmer.stem(WordNetLemmatizer().lemmatize(text,pos='v'))\n",
    "\n",
    "#Tokenize and Lemmatize\n",
    "def preprocess(text):\n",
    "    result=[]\n",
    "    for token in gensim.utils.simple_preprocess(text):\n",
    "        if token not in gensim.parsing.preprocessing.STOPWORDS and len(token)>3:\n",
    "            result.append(lemmatize_stemming(token))\n",
    "            \n",
    "    return result\n",
    "        "
   ]
  },
  {
   "cell_type": "code",
   "execution_count": 29,
   "metadata": {},
   "outputs": [
    {
     "name": "stdout",
     "output_type": "stream",
     "text": [
      "Original Document: \n",
      "['On', 'Wednesday,', 'Trump', 'blasted', 'the', 'US.’s', 'abstention', 'from', 'the', 'U.', 'N.', 'Security', 'Council', 'vote', 'on', 'Israeli', 'settlements', 'earlier', 'this', 'month.', 'The', 'tweets', 'came', 'just', 'hours', 'before', 'Secretary', 'of', 'State', 'John', 'Kerry', 'gave', 'a', 'speech', 'defending', 'the', 'decision', 'and', 'calling', 'the', 'continued', 'building', 'of', 'settlements', 'on', 'Palestinian', 'territory', 'in', 'the', 'West', 'Bank', 'a', 'threat', 'to', 'the', '', '', 'solution', 'in', 'the', 'region.', 'Trump’s', 'support', 'for', 'Israel', 'and', 'Prime', 'Minister', 'Benjamin', 'Netanyahu', '', '—', '', '', 'who', 'has', 'had', 'a', 'fraught', 'relationship', 'with', 'President', 'Obama', '', '—', '', '', 'may', 'be', 'the', 'biggest', 'forthcoming', 'shift', 'in', 'immediate', 'foreign', 'policy', 'between', 'the', 'outgoing', 'and', 'incoming', 'administrations.', 'Throughout', 'the', 'campaign,', 'he', 'pledged', 'that', 'his', 'administration', 'would', 'be', 'a', 'steadfast', 'ally', 'of', 'Israel.', '']\n",
      "\n",
      "\n",
      "Tokenized and lemmatized document: \n",
      "['wednesday', 'trump', 'blast', 'abstent', 'secur', 'council', 'vote', 'isra', 'settlement', 'earlier', 'month', 'tweet', 'come', 'hour', 'secretari', 'state', 'john', 'kerri', 'give', 'speech', 'defend', 'decis', 'call', 'continu', 'build', 'settlement', 'palestinian', 'territori', 'west', 'bank', 'threat', 'solut', 'region', 'trump', 'support', 'israel', 'prime', 'minist', 'benjamin', 'netanyahu', 'fraught', 'relationship', 'presid', 'obama', 'biggest', 'forthcom', 'shift', 'immedi', 'foreign', 'polici', 'outgo', 'incom', 'administr', 'campaign', 'pledg', 'administr', 'steadfast', 'alli', 'israel']\n"
     ]
    }
   ],
   "source": [
    "#preview a document before preprocessing\n",
    "\n",
    "#document_num = 50\n",
    "doc_sample = 'On Wednesday, Trump blasted the US.’s abstention from the U. N. Security Council vote on Israeli settlements earlier this month. The tweets came just hours before Secretary of State John Kerry gave a speech defending the decision and calling the continued building of settlements on Palestinian territory in the West Bank a threat to the   solution in the region. Trump’s support for Israel and Prime Minister Benjamin Netanyahu  —   who has had a fraught relationship with President Obama  —   may be the biggest forthcoming shift in immediate foreign policy between the outgoing and incoming administrations. Throughout the campaign, he pledged that his administration would be a steadfast ally of Israel. '\n",
    "\n",
    "print(\"Original Document: \")\n",
    "words=[]\n",
    "for word in doc_sample.split(' '):\n",
    "    words.append(word)\n",
    "print(words)\n",
    "print(\"\\n\\nTokenized and lemmatized document: \")\n",
    "print(preprocess(doc_sample))"
   ]
  },
  {
   "cell_type": "code",
   "execution_count": 30,
   "metadata": {},
   "outputs": [],
   "source": [
    "processed_docs = []\n",
    "\n",
    "for doc in train.data:\n",
    "    processed_docs.append(preprocess(doc))"
   ]
  },
  {
   "cell_type": "code",
   "execution_count": 31,
   "metadata": {},
   "outputs": [
    {
     "data": {
      "text/plain": [
       "11314"
      ]
     },
     "execution_count": 31,
     "metadata": {},
     "output_type": "execute_result"
    }
   ],
   "source": [
    "len(processed_docs)"
   ]
  },
  {
   "cell_type": "code",
   "execution_count": 32,
   "metadata": {},
   "outputs": [],
   "source": [
    "dictionary = gensim.corpora.Dictionary(processed_docs)"
   ]
  },
  {
   "cell_type": "code",
   "execution_count": 33,
   "metadata": {},
   "outputs": [],
   "source": [
    "dictionary.filter_extremes(no_below=15,no_above=0.1,keep_n=100000)"
   ]
  },
  {
   "cell_type": "code",
   "execution_count": 34,
   "metadata": {},
   "outputs": [],
   "source": [
    "#Create the Bag-of-words model for each document i.e for each document we create a dictionary reporting how many\n",
    "#words and how many times those words appear. Save this to 'bow_corpus'\n",
    "bow_corpus = [dictionary.doc2bow(doc) for doc in processed_docs]"
   ]
  },
  {
   "cell_type": "code",
   "execution_count": 35,
   "metadata": {},
   "outputs": [
    {
     "name": "stdout",
     "output_type": "stream",
     "text": [
      "Word 14 (\"model\") appears 1 time.\n",
      "Word 33 (\"clock\") appears 1 time.\n",
      "Word 46 (\"keyword\") appears 1 time.\n",
      "Word 63 (\"summari\") appears 1 time.\n",
      "Word 83 (\"email\") appears 1 time.\n",
      "Word 101 (\"opinion\") appears 1 time.\n",
      "Word 130 (\"worth\") appears 1 time.\n",
      "Word 146 (\"nice\") appears 1 time.\n",
      "Word 227 (\"hard\") appears 1 time.\n",
      "Word 385 (\"owner\") appears 1 time.\n",
      "Word 399 (\"axi\") appears 1 time.\n",
      "Word 400 (\"beemer\") appears 1 time.\n",
      "Word 401 (\"bike\") appears 2 time.\n",
      "Word 402 (\"brown\") appears 1 time.\n",
      "Word 403 (\"ducati\") appears 2 time.\n",
      "Word 404 (\"expir\") appears 1 time.\n",
      "Word 405 (\"fade\") appears 1 time.\n",
      "Word 406 (\"leak\") appears 2 time.\n",
      "Word 407 (\"lonestar\") appears 2 time.\n",
      "Word 408 (\"motor\") appears 1 time.\n",
      "Word 409 (\"orang\") appears 1 time.\n",
      "Word 410 (\"paint\") appears 1 time.\n",
      "Word 411 (\"pop\") appears 1 time.\n",
      "Word 412 (\"recommend\") appears 1 time.\n",
      "Word 413 (\"richardson\") appears 2 time.\n",
      "Word 414 (\"run\") appears 1 time.\n",
      "Word 415 (\"sell\") appears 1 time.\n",
      "Word 416 (\"shop\") appears 1 time.\n",
      "Word 417 (\"stabl\") appears 1 time.\n",
      "Word 418 (\"tran\") appears 1 time.\n"
     ]
    }
   ],
   "source": [
    "#preview \n",
    "document_num = 10\n",
    "bow_doc_x = bow_corpus[document_num]\n",
    "\n",
    "for i in range(len(bow_doc_x)):\n",
    "    print(\"Word {} (\\\"{}\\\") appears {} time.\".format(bow_doc_x[i][0], \n",
    "                                                     dictionary[bow_doc_x[i][0]],\n",
    "                                                     bow_doc_x[i][1]))"
   ]
  },
  {
   "cell_type": "code",
   "execution_count": 36,
   "metadata": {},
   "outputs": [],
   "source": [
    "lda_model =  gensim.models.LdaMulticore(bow_corpus, \n",
    "                                   num_topics = 10, \n",
    "                                   id2word = dictionary,                                    \n",
    "                                   passes = 10,\n",
    "                                   workers = 2)"
   ]
  },
  {
   "cell_type": "code",
   "execution_count": 37,
   "metadata": {},
   "outputs": [
    {
     "name": "stdout",
     "output_type": "stream",
     "text": [
      "Topic: 0 \n",
      "Words: 0.010*\"bike\" + 0.006*\"game\" + 0.005*\"run\" + 0.005*\"team\" + 0.005*\"virginia\" + 0.004*\"motorcycl\" + 0.004*\"pitch\" + 0.004*\"player\" + 0.004*\"play\" + 0.004*\"ride\"\n",
      "\n",
      "\n",
      "Topic: 1 \n",
      "Words: 0.010*\"armenian\" + 0.008*\"israel\" + 0.007*\"isra\" + 0.007*\"kill\" + 0.006*\"turkish\" + 0.005*\"weapon\" + 0.005*\"jew\" + 0.005*\"govern\" + 0.005*\"arab\" + 0.004*\"gun\"\n",
      "\n",
      "\n",
      "Topic: 2 \n",
      "Words: 0.019*\"game\" + 0.017*\"team\" + 0.013*\"play\" + 0.010*\"player\" + 0.010*\"hockey\" + 0.006*\"season\" + 0.006*\"canada\" + 0.005*\"leagu\" + 0.005*\"score\" + 0.005*\"entri\"\n",
      "\n",
      "\n",
      "Topic: 3 \n",
      "Words: 0.014*\"window\" + 0.013*\"card\" + 0.009*\"driver\" + 0.006*\"video\" + 0.006*\"sale\" + 0.006*\"monitor\" + 0.006*\"speed\" + 0.005*\"appl\" + 0.005*\"softwar\" + 0.005*\"price\"\n",
      "\n",
      "\n",
      "Topic: 4 \n",
      "Words: 0.016*\"file\" + 0.011*\"program\" + 0.010*\"window\" + 0.007*\"imag\" + 0.006*\"avail\" + 0.006*\"data\" + 0.005*\"version\" + 0.005*\"server\" + 0.005*\"graphic\" + 0.005*\"applic\"\n",
      "\n",
      "\n",
      "Topic: 5 \n",
      "Words: 0.018*\"space\" + 0.012*\"nasa\" + 0.007*\"scienc\" + 0.007*\"orbit\" + 0.006*\"launch\" + 0.005*\"earth\" + 0.004*\"moon\" + 0.004*\"research\" + 0.004*\"satellit\" + 0.004*\"mission\"\n",
      "\n",
      "\n",
      "Topic: 6 \n",
      "Words: 0.038*\"drive\" + 0.016*\"scsi\" + 0.012*\"disk\" + 0.011*\"control\" + 0.010*\"hard\" + 0.007*\"washington\" + 0.006*\"power\" + 0.006*\"uiuc\" + 0.005*\"car\" + 0.005*\"floppi\"\n",
      "\n",
      "\n",
      "Topic: 7 \n",
      "Words: 0.013*\"christian\" + 0.009*\"jesus\" + 0.007*\"exist\" + 0.005*\"bibl\" + 0.005*\"moral\" + 0.005*\"religion\" + 0.005*\"word\" + 0.005*\"church\" + 0.005*\"life\" + 0.004*\"claim\"\n",
      "\n",
      "\n",
      "Topic: 8 \n",
      "Words: 0.011*\"govern\" + 0.008*\"encrypt\" + 0.006*\"clipper\" + 0.006*\"presid\" + 0.006*\"chip\" + 0.006*\"secur\" + 0.006*\"public\" + 0.005*\"clinton\" + 0.004*\"protect\" + 0.004*\"money\"\n",
      "\n",
      "\n",
      "Topic: 9 \n",
      "Words: 0.006*\"pitt\" + 0.006*\"food\" + 0.006*\"medic\" + 0.005*\"bank\" + 0.005*\"diseas\" + 0.005*\"gordon\" + 0.005*\"effect\" + 0.005*\"doctor\" + 0.004*\"caus\" + 0.004*\"health\"\n",
      "\n",
      "\n"
     ]
    }
   ],
   "source": [
    "for idx, topic in lda_model.print_topics():\n",
    "    print(\"Topic: {} \\nWords: {}\".format(idx, topic ))\n",
    "    print(\"\\n\")"
   ]
  },
  {
   "cell_type": "code",
   "execution_count": 38,
   "metadata": {},
   "outputs": [
    {
     "name": "stdout",
     "output_type": "stream",
     "text": [
      "From: carter@ecf.toronto.edu (CARTER EDWARD A)\n",
      "Subject: Re: Good Reasons to Wave at each other\n",
      "Organization: University of Toronto, Engineering Computing Facility\n",
      "Lines: 19\n",
      "\n",
      "jlevine@rd.hydro.on.ca (Jody Levine) writes:\n",
      ">Has anyone, while driving a cage, ever waved at bikers? I get the urge,\n",
      ">but I've never actually done it.\n",
      "\n",
      "Oh yeah, all the time.  On a nice spring/summer day, I roll down the window\n",
      "and drive around looking for bikes.  When a bike motors by in the opposite\n",
      "direction, I stick my arm out and hi5'em.  My arm feels like a million \n",
      "bucks when I'm doing this a 60km/h.  I do the same thing with cyclists.\n",
      "The only problem with hi5ing a cyclist is their always in the right hand lane.\n",
      "I hafta roll down the other window and hi5 them on the back.  Oh well, I \n",
      "think they appreciate the thought. \n",
      "\n",
      "Regards, Ted.\n",
      "\n",
      "---\n",
      "University of Toronto Computer Engineering               \n",
      "PowerUsersGroupChairman\n",
      "'89 FZR600: I'm taking a ride with my best friend.                  DoD#:886699\n",
      "\n",
      "\n"
     ]
    }
   ],
   "source": [
    "num = 50\n",
    "unseen_document = ng_test.data[num]\n",
    "print(unseen_document)"
   ]
  },
  {
   "cell_type": "code",
   "execution_count": 39,
   "metadata": {},
   "outputs": [
    {
     "name": "stdout",
     "output_type": "stream",
     "text": [
      "Score: 0.6837900280952454\t Topic: 0.010*\"bike\" + 0.006*\"game\" + 0.005*\"run\" + 0.005*\"team\" + 0.005*\"virginia\" + 0.004*\"motorcycl\" + 0.004*\"pitch\" + 0.004*\"player\" + 0.004*\"play\" + 0.004*\"ride\" + 0.004*\"leav\" + 0.003*\"basebal\" + 0.003*\"duke\" + 0.003*\"dave\" + 0.003*\"cramer\" + 0.003*\"defens\" + 0.003*\"homosexu\" + 0.003*\"rider\" + 0.003*\"smith\" + 0.003*\"rid\" + 0.003*\"home\" + 0.003*\"david\" + 0.003*\"season\" + 0.003*\"gatech\" + 0.003*\"base\" + 0.003*\"hand\" + 0.003*\"optilink\" + 0.003*\"lose\" + 0.003*\"mark\" + 0.003*\"littl\"\n",
      "Score: 0.2451610267162323\t Topic: 0.014*\"window\" + 0.013*\"card\" + 0.009*\"driver\" + 0.006*\"video\" + 0.006*\"sale\" + 0.006*\"monitor\" + 0.006*\"speed\" + 0.005*\"appl\" + 0.005*\"softwar\" + 0.005*\"price\" + 0.005*\"memori\" + 0.004*\"machin\" + 0.004*\"version\" + 0.004*\"mous\" + 0.004*\"engin\" + 0.004*\"cwru\" + 0.004*\"color\" + 0.004*\"printer\" + 0.004*\"modem\" + 0.004*\"sell\" + 0.003*\"cleveland\" + 0.003*\"simm\" + 0.003*\"board\" + 0.003*\"port\" + 0.003*\"instal\" + 0.003*\"upgrad\" + 0.003*\"access\" + 0.003*\"sound\" + 0.003*\"mode\" + 0.003*\"buy\"\n",
      "Score: 0.056143537163734436\t Topic: 0.038*\"drive\" + 0.016*\"scsi\" + 0.012*\"disk\" + 0.011*\"control\" + 0.010*\"hard\" + 0.007*\"washington\" + 0.006*\"power\" + 0.006*\"uiuc\" + 0.005*\"car\" + 0.005*\"floppi\" + 0.005*\"cabl\" + 0.005*\"tape\" + 0.004*\"jpeg\" + 0.004*\"switch\" + 0.004*\"price\" + 0.004*\"jumper\" + 0.004*\"model\" + 0.004*\"light\" + 0.003*\"boot\" + 0.003*\"bio\" + 0.003*\"master\" + 0.003*\"devic\" + 0.003*\"dealer\" + 0.003*\"data\" + 0.003*\"speed\" + 0.003*\"instal\" + 0.003*\"format\" + 0.003*\"slave\" + 0.003*\"connect\" + 0.003*\"head\"\n"
     ]
    }
   ],
   "source": [
    "bow_vector = dictionary.doc2bow(preprocess(unseen_document))\n",
    "\n",
    "for index, score in sorted(lda_model[bow_vector]):\n",
    "    print(\"Score: {}\\t Topic: {}\".format(score, lda_model.print_topic(index, 30)))"
   ]
  },
  {
   "cell_type": "code",
   "execution_count": null,
   "metadata": {},
   "outputs": [],
   "source": []
  }
 ],
 "metadata": {
  "kernelspec": {
   "display_name": "Python 3",
   "language": "python",
   "name": "python3"
  },
  "language_info": {
   "codemirror_mode": {
    "name": "ipython",
    "version": 3
   },
   "file_extension": ".py",
   "mimetype": "text/x-python",
   "name": "python",
   "nbconvert_exporter": "python",
   "pygments_lexer": "ipython3",
   "version": "3.7.6"
  }
 },
 "nbformat": 4,
 "nbformat_minor": 4
}
